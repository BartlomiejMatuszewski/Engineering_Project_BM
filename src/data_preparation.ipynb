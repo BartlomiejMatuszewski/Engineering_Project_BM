{
 "cells": [
  {
   "cell_type": "markdown",
   "source": [
    "# Script for data extraction from videos"
   ],
   "metadata": {
    "collapsed": false
   },
   "id": "926a1b0ee1e8b276"
  },
  {
   "cell_type": "code",
   "execution_count": 16,
   "id": "initial_id",
   "metadata": {
    "collapsed": true,
    "ExecuteTime": {
     "end_time": "2023-11-09T17:40:25.187003300Z",
     "start_time": "2023-11-09T17:40:25.175043800Z"
    }
   },
   "outputs": [],
   "source": [
    "# -*- coding: utf-8 -*-\n",
    "import os\n",
    "\n",
    "import pandas as pd\n",
    "\n",
    "import extract_coordinates_from_video as extract\n",
    "import GestureNumber as Cat\n",
    "\n",
    "RANDOM_SEED = 42\n"
   ]
  },
  {
   "cell_type": "markdown",
   "source": [],
   "metadata": {
    "collapsed": false
   },
   "id": "ff96766119cc21f"
  },
  {
   "cell_type": "code",
   "execution_count": null,
   "outputs": [],
   "source": [
    "\n",
    "# ścieżka do nagrań z których ekstahowano dane\n",
    "video_base_path = os.path.join(\"..\\\\..\\\\Data\")\n",
    "videos_path = []\n",
    "\n",
    "for it in os.listdir(video_base_path):\n",
    "    curr_name: str = it.split(\".\")[0]\n",
    "    curr_path = os.path.join(video_base_path, it)\n",
    "    print(it)\n",
    "    category = Cat.GestureNumber(Cat.gesture_category(it))\n",
    "\n",
    "    # default output_dir should be csv_data, it's changed to do not accidently overrite the data\n",
    "    extract.extract_coordinates_from_video(\n",
    "        video_path=curr_path,\n",
    "        model_path=os.path.join(\"../mp_models/hand_landmarker.task\"),  # path to mediapipe handlandmarker model\n",
    "        output_name=curr_name,\n",
    "        category=category,\n",
    "        output_dir=os.path.join(\"../csv_data1\")\n",
    "    )\n"
   ],
   "metadata": {
    "collapsed": false
   },
   "id": "e67832fc6169ec33"
  },
  {
   "cell_type": "code",
   "execution_count": 19,
   "outputs": [],
   "source": [
    "\n",
    "base_path = os.path.join(\"..\\\\csv_data\")\n",
    "videos_path = []\n",
    "\n",
    "data_set1 = os.path.join(base_path, \"jacek_attack.csv\")\n",
    "\n",
    "vertical_stack: pd.DataFrame = pd.read_csv(data_set1)\n",
    "vertical_stack = vertical_stack.iloc[:, 1:]\n",
    "\n",
    "for it in os.listdir(base_path):\n",
    "    if it != \"jacek_attack.csv\" and \"jacek\" in it:\n",
    "        curr_path = os.path.join(base_path, it)\n",
    "        curr_df = pd.read_csv(curr_path)\n",
    "        curr_df = curr_df.iloc[:, 1:]\n",
    "        vertical_stack = pd.concat([vertical_stack, curr_df], axis=0)\n"
   ],
   "metadata": {
    "collapsed": false,
    "ExecuteTime": {
     "end_time": "2023-11-09T17:42:55.712590500Z",
     "start_time": "2023-11-09T17:42:55.434793800Z"
    }
   },
   "id": "b112daf5213d1d11"
  },
  {
   "cell_type": "markdown",
   "source": [
    "## Połączenie cząstkowych plików .csv w jeden zbiorczy"
   ],
   "metadata": {
    "collapsed": false
   },
   "id": "c0b84aba099c590f"
  },
  {
   "cell_type": "code",
   "execution_count": 20,
   "outputs": [],
   "source": [
    "\n",
    "vertical_stack.to_csv(path_or_buf=os.path.join(\"../full_csv_data/test_data.csv\"), index=False)\n"
   ],
   "metadata": {
    "collapsed": false,
    "ExecuteTime": {
     "end_time": "2023-11-09T17:42:57.895683400Z",
     "start_time": "2023-11-09T17:42:56.410546100Z"
    }
   },
   "id": "abe79feb07a156f0"
  },
  {
   "cell_type": "code",
   "execution_count": null,
   "outputs": [],
   "source": [
    "\n",
    "\n"
   ],
   "metadata": {
    "collapsed": false
   },
   "id": "cde0c7f21e728efd"
  }
 ],
 "metadata": {
  "kernelspec": {
   "display_name": "Python 3",
   "language": "python",
   "name": "python3"
  },
  "language_info": {
   "codemirror_mode": {
    "name": "ipython",
    "version": 2
   },
   "file_extension": ".py",
   "mimetype": "text/x-python",
   "name": "python",
   "nbconvert_exporter": "python",
   "pygments_lexer": "ipython2",
   "version": "2.7.6"
  }
 },
 "nbformat": 4,
 "nbformat_minor": 5
}
