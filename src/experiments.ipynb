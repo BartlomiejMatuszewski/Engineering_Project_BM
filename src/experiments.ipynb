{
 "cells": [
  {
   "cell_type": "code",
   "execution_count": 1,
   "id": "initial_id",
   "metadata": {
    "collapsed": true,
    "ExecuteTime": {
     "end_time": "2023-11-09T13:33:41.728407900Z",
     "start_time": "2023-11-09T13:33:37.625489700Z"
    }
   },
   "outputs": [],
   "source": [
    "# -*- coding: utf-8 -*-\n",
    "import os\n",
    "\n",
    "import numpy as np\n",
    "import pandas as pd\n",
    "import cv2\n",
    "import matplotlib.pyplot as plt\n",
    "import tensorflow as tf\n",
    "\n",
    "# mine functionalities\n",
    "import extract_coordinates_from_video as extract\n",
    "import GestureNumber\n"
   ]
  },
  {
   "cell_type": "code",
   "execution_count": 4,
   "outputs": [
    {
     "name": "stdout",
     "output_type": "stream",
     "text": [
      "bartek_attack.avi\n",
      "bartek_block.avi\n",
      "bartek_neutral.avi\n",
      "bartek_point_down.avi\n",
      "bartek_point_left.avi\n",
      "bartek_point_right.avi\n",
      "bartek_point_up.avi\n",
      "dawid_attack.avi\n",
      "dawid_block.avi\n",
      "dawid_neutral.avi\n",
      "dawid_point_down.avi\n",
      "dawid_point_left.avi\n",
      "dawid_point_right.avi\n",
      "dawid_point_up.avi\n",
      "dawid_point_up_1.avi\n",
      "jacek_attack.avi\n",
      "jacek_block.avi\n",
      "jacek_neutral.avi\n",
      "jacek_point_left.avi\n",
      "jacek_point_right.avi\n",
      "jacek_point_up.avi\n",
      "jacek_thumb_down.avi\n",
      "maciej_attack.avi\n",
      "maciej_block.avi\n",
      "maciej_neutral.avi\n",
      "maciej_point_down.avi\n",
      "maciej_point_left.avi\n",
      "maciej_point_right.avi\n",
      "maciej_point_up.avi\n"
     ]
    }
   ],
   "source": [
    "\n",
    "video_path = os.path.join(\"..\\\\..\\\\Data\")\n",
    "\n",
    "for it in os.listdir(video_path):\n",
    "    print(it)\n",
    "\n"
   ],
   "metadata": {
    "collapsed": false,
    "ExecuteTime": {
     "end_time": "2023-11-09T13:37:45.986060500Z",
     "start_time": "2023-11-09T13:37:45.970113Z"
    }
   },
   "id": "793c8c52da84a389"
  },
  {
   "cell_type": "code",
   "execution_count": null,
   "outputs": [],
   "source": [
    "\n"
   ],
   "metadata": {
    "collapsed": false
   },
   "id": "975fe51c1825f4f9"
  }
 ],
 "metadata": {
  "kernelspec": {
   "display_name": "Python 3",
   "language": "python",
   "name": "python3"
  },
  "language_info": {
   "codemirror_mode": {
    "name": "ipython",
    "version": 2
   },
   "file_extension": ".py",
   "mimetype": "text/x-python",
   "name": "python",
   "nbconvert_exporter": "python",
   "pygments_lexer": "ipython2",
   "version": "2.7.6"
  }
 },
 "nbformat": 4,
 "nbformat_minor": 5
}
