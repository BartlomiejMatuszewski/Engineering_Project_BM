{
 "cells": [
  {
   "cell_type": "code",
   "execution_count": 18,
   "id": "initial_id",
   "metadata": {
    "collapsed": true,
    "ExecuteTime": {
     "end_time": "2023-11-07T18:09:15.679926400Z",
     "start_time": "2023-11-07T18:09:15.668715900Z"
    }
   },
   "outputs": [],
   "source": [
    "\n",
    "import os\n",
    "\n",
    "import numpy as np\n",
    "import pandas as pd\n",
    "import cv2\n",
    "import matplotlib.pyplot as plt\n",
    "import tensorflow as tf\n",
    "\n",
    "# mine functionalities\n",
    "import extract_coordinates_from_video as extract\n",
    "import GestureNumber\n",
    "import convert_videos as convert\n",
    "\n"
   ]
  },
  {
   "cell_type": "code",
   "execution_count": 15,
   "outputs": [
    {
     "name": "stdout",
     "output_type": "stream",
     "text": [
      "['Bartek_Data', 'Dawid_Data', 'Jacek_Data', 'Maciej_Data']\n"
     ]
    }
   ],
   "source": [
    "\n",
    "dir_path = os.path.join(\"..\", \"..\", \"Data_raw\")\n",
    "\n",
    "sub_dirs = os.listdir(dir_path)\n",
    "names = []\n",
    "\n",
    "curr_name = []\n",
    "\n",
    "for it in sub_dirs:\n",
    "    curr_name = it.split(\"_\")\n",
    "    names.append(curr_name[0])\n",
    "    curr_name.clear()\n",
    "\n",
    "\n",
    "print(sub_dirs)\n"
   ],
   "metadata": {
    "collapsed": false,
    "ExecuteTime": {
     "end_time": "2023-11-07T17:56:14.508406400Z",
     "start_time": "2023-11-07T17:56:14.482117100Z"
    }
   },
   "id": "521416ad8d2af210"
  },
  {
   "cell_type": "code",
   "execution_count": 19,
   "outputs": [
    {
     "name": "stdout",
     "output_type": "stream",
     "text": [
      "bartek_attack.mp4\n",
      "..\\..\\Data_raw\\Bartek_Data\\bartek_attack.mp4\n"
     ]
    }
   ],
   "source": [
    "\n",
    "outputs = []\n",
    "\n",
    "curr_path = \"\"\n",
    "files_lst = []\n",
    "\n",
    "for sub_dir in sub_dirs:\n",
    "    curr_path = os.path.join(dir_path, sub_dir)\n",
    "    \n",
    "    files_lst = os.listdir(curr_path)\n",
    "    \n",
    "    for file_name in files_lst:\n",
    "        outputs.append(os.path.join(curr_path, file_name))\n",
    "    \n",
    "    \n",
    "\n",
    "\n",
    "print(outputs[0].split('\\\\')[-1])\n",
    "print(outputs[0])"
   ],
   "metadata": {
    "collapsed": false,
    "ExecuteTime": {
     "end_time": "2023-11-07T18:09:39.416793800Z",
     "start_time": "2023-11-07T18:09:39.407581100Z"
    }
   },
   "id": "a6d3288b71c39d25"
  },
  {
   "cell_type": "code",
   "execution_count": 21,
   "outputs": [
    {
     "name": "stdout",
     "output_type": "stream",
     "text": [
      "The video was successfully saved\n",
      "The video was successfully saved\n",
      "The video was successfully saved\n",
      "The video was successfully saved\n",
      "The video was successfully saved\n",
      "The video was successfully saved\n",
      "The video was successfully saved\n",
      "The video was successfully saved\n",
      "The video was successfully saved\n",
      "The video was successfully saved\n",
      "The video was successfully saved\n",
      "The video was successfully saved\n",
      "The video was successfully saved\n",
      "The video was successfully saved\n",
      "The video was successfully saved\n",
      "The video was successfully saved\n",
      "The video was successfully saved\n",
      "The video was successfully saved\n",
      "The video was successfully saved\n",
      "The video was successfully saved\n",
      "The video was successfully saved\n",
      "The video was successfully saved\n",
      "The video was successfully saved\n",
      "The video was successfully saved\n",
      "The video was successfully saved\n",
      "The video was successfully saved\n",
      "The video was successfully saved\n",
      "The video was successfully saved\n"
     ]
    }
   ],
   "source": [
    "\n",
    "\n",
    "for video in outputs[1:]:\n",
    "    convert.convert_video(path=video, path_to_save_dir=os.path.join(\"../../Data\"))\n",
    "\n"
   ],
   "metadata": {
    "collapsed": false,
    "ExecuteTime": {
     "end_time": "2023-11-07T18:34:24.273457700Z",
     "start_time": "2023-11-07T18:12:28.695629300Z"
    }
   },
   "id": "55bb85c1c9abe1cc"
  }
 ],
 "metadata": {
  "kernelspec": {
   "display_name": "Python 3",
   "language": "python",
   "name": "python3"
  },
  "language_info": {
   "codemirror_mode": {
    "name": "ipython",
    "version": 2
   },
   "file_extension": ".py",
   "mimetype": "text/x-python",
   "name": "python",
   "nbconvert_exporter": "python",
   "pygments_lexer": "ipython2",
   "version": "2.7.6"
  }
 },
 "nbformat": 4,
 "nbformat_minor": 5
}
