{
 "cells": [
  {
   "cell_type": "code",
   "execution_count": 1,
   "id": "initial_id",
   "metadata": {
    "collapsed": true,
    "ExecuteTime": {
     "end_time": "2023-12-15T19:00:53.404703100Z",
     "start_time": "2023-12-15T19:00:50.876082400Z"
    }
   },
   "outputs": [],
   "source": [
    "# -*- coding: utf-8 -*-\n",
    "import os\n",
    "\n",
    "import numpy as np\n",
    "import pandas as pd\n",
    "import matplotlib.pyplot as plt\n",
    "import tensorflow as tf\n",
    "import sklearn.model_selection as mod_sel\n",
    "import pydot\n",
    "\n",
    "RANDOM_SEED = 42\n",
    "NUM_CLASSES = 7\n",
    "\n",
    "dataset_path = os.path.join(\"../full_csv_data/full_data_1.csv\")\n",
    "\n",
    "training_data_path = os.path.join(\"../full_csv_data/train_data.csv\")\n",
    "testing_data_path = os.path.join(\"../full_csv_data/test_data.csv\")\n"
   ]
  },
  {
   "cell_type": "markdown",
   "id": "ecea640a603c3e8c",
   "metadata": {
    "collapsed": false
   },
   "source": []
  },
  {
   "cell_type": "code",
   "execution_count": 2,
   "id": "17f69ad3316d9b15",
   "metadata": {
    "collapsed": false,
    "ExecuteTime": {
     "end_time": "2023-12-15T19:00:55.058414200Z",
     "start_time": "2023-12-15T19:00:53.407537Z"
    }
   },
   "outputs": [
    {
     "data": {
      "text/plain": "    WRIST_x   WRIST_y  THUMB_CMC_x  THUMB_CMC_y  THUMB_MCP_x  THUMB_MCP_y  \\\n0  0.587292  0.645778     0.562785     0.610625     0.548883     0.550258   \n1  0.580777  0.661015     0.556497     0.622755     0.543159     0.564763   \n2  0.582599  0.670213     0.557104     0.627109     0.542273     0.563967   \n3  0.584030  0.673258     0.558286     0.625489     0.544291     0.561939   \n4  0.585115  0.667034     0.559267     0.619904     0.545567     0.557655   \n\n   THUMB_IP_x  THUMB_IP_y  THUMB_TIP_x  THUMB_TIP_y  ...  RING_FINGER_TIP_y  \\\n0    0.556732    0.507832     0.577612     0.487640  ...           0.549274   \n1    0.550922    0.519289     0.571730     0.496221  ...           0.563129   \n2    0.549945    0.515890     0.571464     0.490607  ...           0.563648   \n3    0.552698    0.514165     0.574654     0.488400  ...           0.561743   \n4    0.554347    0.512488     0.576199     0.488906  ...           0.559021   \n\n   PINKY_MCP_x  PINKY_MCP_y  PINKY_PIP_x  PINKY_PIP_y  PINKY_DIP_x  \\\n0     0.633768     0.524244     0.651393     0.467423     0.662765   \n1     0.626761     0.529217     0.644878     0.479159     0.654922   \n2     0.628615     0.531993     0.647242     0.480551     0.656991   \n3     0.629877     0.532089     0.649057     0.482488     0.659226   \n4     0.632383     0.529412     0.651403     0.481268     0.661701   \n\n   PINKY_DIP_y  PINKY_TIP_x  PINKY_TIP_y  GESTURE  \n0     0.430578     0.671104     0.392935      5.0  \n1     0.443597     0.663010     0.405483      5.0  \n2     0.444289     0.664524     0.404008      5.0  \n3     0.446588     0.667043     0.405972      5.0  \n4     0.446572     0.669413     0.405841      5.0  \n\n[5 rows x 43 columns]",
      "text/html": "<div>\n<style scoped>\n    .dataframe tbody tr th:only-of-type {\n        vertical-align: middle;\n    }\n\n    .dataframe tbody tr th {\n        vertical-align: top;\n    }\n\n    .dataframe thead th {\n        text-align: right;\n    }\n</style>\n<table border=\"1\" class=\"dataframe\">\n  <thead>\n    <tr style=\"text-align: right;\">\n      <th></th>\n      <th>WRIST_x</th>\n      <th>WRIST_y</th>\n      <th>THUMB_CMC_x</th>\n      <th>THUMB_CMC_y</th>\n      <th>THUMB_MCP_x</th>\n      <th>THUMB_MCP_y</th>\n      <th>THUMB_IP_x</th>\n      <th>THUMB_IP_y</th>\n      <th>THUMB_TIP_x</th>\n      <th>THUMB_TIP_y</th>\n      <th>...</th>\n      <th>RING_FINGER_TIP_y</th>\n      <th>PINKY_MCP_x</th>\n      <th>PINKY_MCP_y</th>\n      <th>PINKY_PIP_x</th>\n      <th>PINKY_PIP_y</th>\n      <th>PINKY_DIP_x</th>\n      <th>PINKY_DIP_y</th>\n      <th>PINKY_TIP_x</th>\n      <th>PINKY_TIP_y</th>\n      <th>GESTURE</th>\n    </tr>\n  </thead>\n  <tbody>\n    <tr>\n      <th>0</th>\n      <td>0.587292</td>\n      <td>0.645778</td>\n      <td>0.562785</td>\n      <td>0.610625</td>\n      <td>0.548883</td>\n      <td>0.550258</td>\n      <td>0.556732</td>\n      <td>0.507832</td>\n      <td>0.577612</td>\n      <td>0.487640</td>\n      <td>...</td>\n      <td>0.549274</td>\n      <td>0.633768</td>\n      <td>0.524244</td>\n      <td>0.651393</td>\n      <td>0.467423</td>\n      <td>0.662765</td>\n      <td>0.430578</td>\n      <td>0.671104</td>\n      <td>0.392935</td>\n      <td>5.0</td>\n    </tr>\n    <tr>\n      <th>1</th>\n      <td>0.580777</td>\n      <td>0.661015</td>\n      <td>0.556497</td>\n      <td>0.622755</td>\n      <td>0.543159</td>\n      <td>0.564763</td>\n      <td>0.550922</td>\n      <td>0.519289</td>\n      <td>0.571730</td>\n      <td>0.496221</td>\n      <td>...</td>\n      <td>0.563129</td>\n      <td>0.626761</td>\n      <td>0.529217</td>\n      <td>0.644878</td>\n      <td>0.479159</td>\n      <td>0.654922</td>\n      <td>0.443597</td>\n      <td>0.663010</td>\n      <td>0.405483</td>\n      <td>5.0</td>\n    </tr>\n    <tr>\n      <th>2</th>\n      <td>0.582599</td>\n      <td>0.670213</td>\n      <td>0.557104</td>\n      <td>0.627109</td>\n      <td>0.542273</td>\n      <td>0.563967</td>\n      <td>0.549945</td>\n      <td>0.515890</td>\n      <td>0.571464</td>\n      <td>0.490607</td>\n      <td>...</td>\n      <td>0.563648</td>\n      <td>0.628615</td>\n      <td>0.531993</td>\n      <td>0.647242</td>\n      <td>0.480551</td>\n      <td>0.656991</td>\n      <td>0.444289</td>\n      <td>0.664524</td>\n      <td>0.404008</td>\n      <td>5.0</td>\n    </tr>\n    <tr>\n      <th>3</th>\n      <td>0.584030</td>\n      <td>0.673258</td>\n      <td>0.558286</td>\n      <td>0.625489</td>\n      <td>0.544291</td>\n      <td>0.561939</td>\n      <td>0.552698</td>\n      <td>0.514165</td>\n      <td>0.574654</td>\n      <td>0.488400</td>\n      <td>...</td>\n      <td>0.561743</td>\n      <td>0.629877</td>\n      <td>0.532089</td>\n      <td>0.649057</td>\n      <td>0.482488</td>\n      <td>0.659226</td>\n      <td>0.446588</td>\n      <td>0.667043</td>\n      <td>0.405972</td>\n      <td>5.0</td>\n    </tr>\n    <tr>\n      <th>4</th>\n      <td>0.585115</td>\n      <td>0.667034</td>\n      <td>0.559267</td>\n      <td>0.619904</td>\n      <td>0.545567</td>\n      <td>0.557655</td>\n      <td>0.554347</td>\n      <td>0.512488</td>\n      <td>0.576199</td>\n      <td>0.488906</td>\n      <td>...</td>\n      <td>0.559021</td>\n      <td>0.632383</td>\n      <td>0.529412</td>\n      <td>0.651403</td>\n      <td>0.481268</td>\n      <td>0.661701</td>\n      <td>0.446572</td>\n      <td>0.669413</td>\n      <td>0.405841</td>\n      <td>5.0</td>\n    </tr>\n  </tbody>\n</table>\n<p>5 rows × 43 columns</p>\n</div>"
     },
     "execution_count": 2,
     "metadata": {},
     "output_type": "execute_result"
    }
   ],
   "source": [
    "dataset = pd.read_csv(dataset_path)\n",
    "training_data = pd.read_csv(training_data_path)\n",
    "testing_data = pd.read_csv(testing_data_path)\n",
    "\n",
    "# dataset = dataset.iloc[:, 1:]\n",
    "\n",
    "dataset.head()"
   ]
  },
  {
   "cell_type": "code",
   "execution_count": 3,
   "id": "125f9862e46a87cb",
   "metadata": {
    "collapsed": false,
    "ExecuteTime": {
     "end_time": "2023-12-15T19:00:55.080850500Z",
     "start_time": "2023-12-15T19:00:55.059416800Z"
    }
   },
   "outputs": [],
   "source": [
    "\n",
    "X = dataset.iloc[:, :-1]\n",
    "y = dataset.iloc[:, -1]\n"
   ]
  },
  {
   "cell_type": "code",
   "execution_count": 4,
   "id": "3517809a6b23d554",
   "metadata": {
    "collapsed": false,
    "ExecuteTime": {
     "end_time": "2023-12-15T19:00:55.135986100Z",
     "start_time": "2023-12-15T19:00:55.076848500Z"
    }
   },
   "outputs": [],
   "source": [
    "\n",
    "X_training = training_data.iloc[:, :-1]\n",
    "y_training = training_data.iloc[:, -1]\n",
    "\n",
    "X_testing = testing_data.iloc[:, :-1]\n",
    "y_testing = testing_data.iloc[:, -1]\n"
   ]
  },
  {
   "cell_type": "code",
   "execution_count": 5,
   "id": "71d91e425e8fdfb3",
   "metadata": {
    "collapsed": false,
    "ExecuteTime": {
     "end_time": "2023-12-15T19:00:55.170027600Z",
     "start_time": "2023-12-15T19:00:55.092846900Z"
    }
   },
   "outputs": [],
   "source": [
    "\n",
    "X_train, X_val, y_train, y_val = mod_sel.train_test_split(X_testing, y_testing, test_size=0.2, random_state=RANDOM_SEED)\n",
    "\n",
    "X_test = X_testing\n",
    "y_test = y_testing\n"
   ]
  },
  {
   "cell_type": "code",
   "execution_count": 6,
   "id": "c94a093c4f356fd7",
   "metadata": {
    "collapsed": false,
    "ExecuteTime": {
     "end_time": "2023-12-15T19:00:55.200964600Z",
     "start_time": "2023-12-15T19:00:55.124953800Z"
    }
   },
   "outputs": [],
   "source": [
    "\n",
    "\n",
    "X_train, X_test, y_train, y_test = mod_sel.train_test_split(X, y, test_size=0.2, random_state=RANDOM_SEED)\n",
    "\n",
    "# 0.25 x 0.8 = 0.2\n",
    "X_train, X_val, y_train, y_val = mod_sel.train_test_split(X_test, y_test, test_size=0.5, random_state=RANDOM_SEED)\n",
    "\n"
   ]
  },
  {
   "cell_type": "markdown",
   "id": "8b4e4999227a40a4",
   "metadata": {
    "collapsed": false
   },
   "source": [
    "# Model building"
   ]
  },
  {
   "cell_type": "code",
   "execution_count": 7,
   "id": "2b4fe9c26dcb40a",
   "metadata": {
    "collapsed": false,
    "ExecuteTime": {
     "end_time": "2023-12-15T19:00:55.214344900Z",
     "start_time": "2023-12-15T19:00:55.201954Z"
    }
   },
   "outputs": [],
   "source": [
    "# 0.97\n",
    "# tf_model = tf.keras.models.Sequential([\n",
    "#     tf.keras.layers.Input((21 * 2,)),\n",
    "#     tf.keras.layers.Dropout(0.1),\n",
    "#     \n",
    "#     tf.keras.layers.Dense(35, activation='relu'),\n",
    "#     tf.keras.layers.Dropout(0.2),\n",
    "#     \n",
    "#     tf.keras.layers.Dense(30, activation='relu'),   \n",
    "#     tf.keras.layers.Dropout(0.2),\n",
    "#     \n",
    "#     tf.keras.layers.Dense(25, activation='relu'),    \n",
    "#     tf.keras.layers.Dropout(0.3),\n",
    "#     \n",
    "#     tf.keras.layers.Dense(20, activation='relu'),\n",
    "#     tf.keras.layers.Dropout(0.3),\n",
    "#     \n",
    "#     tf.keras.layers.Dense(15, activation='relu'),    \n",
    "#     tf.keras.layers.Dropout(0.4),\n",
    "#     \n",
    "#     tf.keras.layers.Dense(10, activation='relu'),    \n",
    "#     \n",
    "#     tf.keras.layers.Dense(CLASSES, activation='softmax')\n",
    "# ])\n",
    "\n",
    "\n",
    "# 0.75\n",
    "# new data 0.92\n",
    "# tf_model = tf.keras.models.Sequential([\n",
    "#     tf.keras.layers.Input((21 * 2,)),\n",
    "#     tf.keras.layers.Dropout(0.2),\n",
    "#     tf.keras.layers.Dense(20, activation='relu'),\n",
    "#     tf.keras.layers.Dropout(0.35),\n",
    "#     tf.keras.layers.Dense(15, activation='relu'),\n",
    "#     tf.keras.layers.Dense(CLASSES, activation='softmax')\n",
    "# ])\n",
    "\n",
    "\n",
    "# # 0.98\n",
    "# tf_model = tf.keras.models.Sequential([\n",
    "#     tf.keras.layers.Input((21 * 2,)),\n",
    "#     tf.keras.layers.Dropout(0.1),\n",
    "#     \n",
    "#     tf.keras.layers.Dense(35, activation='relu'),\n",
    "#     tf.keras.layers.Dropout(0.2),\n",
    "#     \n",
    "#     tf.keras.layers.Dense(30, activation='relu'),   \n",
    "#     tf.keras.layers.Dropout(0.25),\n",
    "#     \n",
    "#     tf.keras.layers.Dense(25, activation='relu'),    \n",
    "#     tf.keras.layers.Dropout(0.3),\n",
    "#     \n",
    "#     tf.keras.layers.Dense(20, activation='relu'),\n",
    "#     tf.keras.layers.Dropout(0.3),\n",
    "#     \n",
    "#     tf.keras.layers.Dense(15, activation='relu'),    \n",
    "#     tf.keras.layers.Dropout(0.4),\n",
    "#     \n",
    "#     tf.keras.layers.Dense(10, activation='relu'),    \n",
    "#     \n",
    "#     tf.keras.layers.Dense(CLASSES, activation='softmax')\n",
    "# ])\n",
    "\n",
    "\n",
    "# tf_model = tf.keras.models.Sequential([\n",
    "#     tf.keras.layers.Input((21 * 2,)),\n",
    "#     \n",
    "#     tf.keras.layers.Dense(40, activation='relu'),\n",
    "#     tf.keras.layers.Dropout(0.2),\n",
    "#     \n",
    "#     tf.keras.layers.Dense(35, activation='relu'),\n",
    "#     tf.keras.layers.Dropout(0.2),\n",
    "#     \n",
    "#     tf.keras.layers.Dense(30, activation='relu'),   \n",
    "#     tf.keras.layers.Dropout(0.25),\n",
    "#     \n",
    "#     tf.keras.layers.Dense(25, activation='relu'),    \n",
    "#     tf.keras.layers.Dropout(0.3),\n",
    "#     \n",
    "#     tf.keras.layers.Dense(20, activation='relu'),\n",
    "#     tf.keras.layers.Dropout(0.3),\n",
    "#     \n",
    "#     tf.keras.layers.Dense(15, activation='relu'),    \n",
    "#     tf.keras.layers.Dropout(0.4),\n",
    "#     \n",
    "#     tf.keras.layers.Dense(15, activation='relu'),    \n",
    "#     tf.keras.layers.Dropout(0.4),\n",
    "#     \n",
    "#     tf.keras.layers.Dense(10, activation='relu'),    \n",
    "#     \n",
    "#     tf.keras.layers.Dense(CLASSES, activation='softmax')\n",
    "# ])\n",
    "\n"
   ]
  },
  {
   "cell_type": "code",
   "execution_count": 8,
   "id": "5abd9d3f4a08d78c",
   "metadata": {
    "collapsed": false,
    "ExecuteTime": {
     "end_time": "2023-12-15T19:00:55.311837900Z",
     "start_time": "2023-12-15T19:00:55.217339500Z"
    }
   },
   "outputs": [],
   "source": [
    "\n",
    "tf_model = tf.keras.models.Sequential([\n",
    "    tf.keras.layers.Input((21 * 2,)),\n",
    "\n",
    "    tf.keras.layers.Dense(30, activation='relu'),\n",
    "\n",
    "    tf.keras.layers.Dropout(0.2),\n",
    "\n",
    "    tf.keras.layers.Dense(20, activation='relu'),\n",
    "\n",
    "    tf.keras.layers.Dropout(0.3),\n",
    "\n",
    "    tf.keras.layers.Dense(10, activation='relu'),\n",
    "\n",
    "    tf.keras.layers.Dense(NUM_CLASSES, activation='softmax')\n",
    "])\n"
   ]
  },
  {
   "cell_type": "code",
   "execution_count": 9,
   "id": "5b728071970b1bf3",
   "metadata": {
    "collapsed": false,
    "ExecuteTime": {
     "end_time": "2023-12-15T19:00:55.333299500Z",
     "start_time": "2023-12-15T19:00:55.309837300Z"
    }
   },
   "outputs": [
    {
     "name": "stdout",
     "output_type": "stream",
     "text": [
      "Model: \"sequential\"\n",
      "_________________________________________________________________\n",
      " Layer (type)                Output Shape              Param #   \n",
      "=================================================================\n",
      " dense (Dense)               (None, 30)                1290      \n",
      "                                                                 \n",
      " dropout (Dropout)           (None, 30)                0         \n",
      "                                                                 \n",
      " dense_1 (Dense)             (None, 20)                620       \n",
      "                                                                 \n",
      " dropout_1 (Dropout)         (None, 20)                0         \n",
      "                                                                 \n",
      " dense_2 (Dense)             (None, 10)                210       \n",
      "                                                                 \n",
      " dense_3 (Dense)             (None, 7)                 77        \n",
      "                                                                 \n",
      "=================================================================\n",
      "Total params: 2,197\n",
      "Trainable params: 2,197\n",
      "Non-trainable params: 0\n",
      "_________________________________________________________________\n"
     ]
    }
   ],
   "source": [
    "\n",
    "tf_model.summary()\n"
   ]
  },
  {
   "cell_type": "code",
   "execution_count": 13,
   "outputs": [
    {
     "ename": "ValueError",
     "evalue": "Cannot embed the 'svg' image format",
     "output_type": "error",
     "traceback": [
      "\u001B[1;31m---------------------------------------------------------------------------\u001B[0m",
      "\u001B[1;31mValueError\u001B[0m                                Traceback (most recent call last)",
      "Cell \u001B[1;32mIn[13], line 1\u001B[0m\n\u001B[1;32m----> 1\u001B[0m \u001B[43mtf\u001B[49m\u001B[38;5;241;43m.\u001B[39;49m\u001B[43mkeras\u001B[49m\u001B[38;5;241;43m.\u001B[39;49m\u001B[43mutils\u001B[49m\u001B[38;5;241;43m.\u001B[39;49m\u001B[43mplot_model\u001B[49m\u001B[43m(\u001B[49m\u001B[43mtf_model\u001B[49m\u001B[43m,\u001B[49m\u001B[43m \u001B[49m\u001B[43mto_file\u001B[49m\u001B[38;5;241;43m=\u001B[39;49m\u001B[38;5;124;43m\"\u001B[39;49m\u001B[38;5;124;43mtf_model.svg\u001B[39;49m\u001B[38;5;124;43m\"\u001B[39;49m\u001B[43m,\u001B[49m\u001B[43m \u001B[49m\u001B[43mshow_shapes\u001B[49m\u001B[38;5;241;43m=\u001B[39;49m\u001B[38;5;28;43;01mTrue\u001B[39;49;00m\u001B[43m,\u001B[49m\u001B[43m \u001B[49m\u001B[43mdpi\u001B[49m\u001B[38;5;241;43m=\u001B[39;49m\u001B[38;5;28;43;01mNone\u001B[39;49;00m\u001B[43m)\u001B[49m\n",
      "File \u001B[1;32mC:\\anaconda\\Anaconda3\\envs\\scientific\\lib\\site-packages\\keras\\utils\\vis_utils.py:479\u001B[0m, in \u001B[0;36mplot_model\u001B[1;34m(model, to_file, show_shapes, show_dtype, show_layer_names, rankdir, expand_nested, dpi, layer_range, show_layer_activations)\u001B[0m\n\u001B[0;32m    476\u001B[0m \u001B[38;5;28;01mtry\u001B[39;00m:\n\u001B[0;32m    477\u001B[0m     \u001B[38;5;28;01mfrom\u001B[39;00m \u001B[38;5;21;01mIPython\u001B[39;00m \u001B[38;5;28;01mimport\u001B[39;00m display\n\u001B[1;32m--> 479\u001B[0m     \u001B[38;5;28;01mreturn\u001B[39;00m \u001B[43mdisplay\u001B[49m\u001B[38;5;241;43m.\u001B[39;49m\u001B[43mImage\u001B[49m\u001B[43m(\u001B[49m\u001B[43mfilename\u001B[49m\u001B[38;5;241;43m=\u001B[39;49m\u001B[43mto_file\u001B[49m\u001B[43m)\u001B[49m\n\u001B[0;32m    480\u001B[0m \u001B[38;5;28;01mexcept\u001B[39;00m \u001B[38;5;167;01mImportError\u001B[39;00m:\n\u001B[0;32m    481\u001B[0m     \u001B[38;5;28;01mpass\u001B[39;00m\n",
      "File \u001B[1;32mC:\\anaconda\\Anaconda3\\envs\\scientific\\lib\\site-packages\\IPython\\core\\display.py:961\u001B[0m, in \u001B[0;36mImage.__init__\u001B[1;34m(self, data, url, filename, format, embed, width, height, retina, unconfined, metadata, alt)\u001B[0m\n\u001B[0;32m    958\u001B[0m \u001B[38;5;28mself\u001B[39m\u001B[38;5;241m.\u001B[39membed \u001B[38;5;241m=\u001B[39m embed \u001B[38;5;28;01mif\u001B[39;00m embed \u001B[38;5;129;01mis\u001B[39;00m \u001B[38;5;129;01mnot\u001B[39;00m \u001B[38;5;28;01mNone\u001B[39;00m \u001B[38;5;28;01melse\u001B[39;00m (url \u001B[38;5;129;01mis\u001B[39;00m \u001B[38;5;28;01mNone\u001B[39;00m)\n\u001B[0;32m    960\u001B[0m \u001B[38;5;28;01mif\u001B[39;00m \u001B[38;5;28mself\u001B[39m\u001B[38;5;241m.\u001B[39membed \u001B[38;5;129;01mand\u001B[39;00m \u001B[38;5;28mself\u001B[39m\u001B[38;5;241m.\u001B[39mformat \u001B[38;5;129;01mnot\u001B[39;00m \u001B[38;5;129;01min\u001B[39;00m \u001B[38;5;28mself\u001B[39m\u001B[38;5;241m.\u001B[39m_ACCEPTABLE_EMBEDDINGS:\n\u001B[1;32m--> 961\u001B[0m     \u001B[38;5;28;01mraise\u001B[39;00m \u001B[38;5;167;01mValueError\u001B[39;00m(\u001B[38;5;124m\"\u001B[39m\u001B[38;5;124mCannot embed the \u001B[39m\u001B[38;5;124m'\u001B[39m\u001B[38;5;132;01m%s\u001B[39;00m\u001B[38;5;124m'\u001B[39m\u001B[38;5;124m image format\u001B[39m\u001B[38;5;124m\"\u001B[39m \u001B[38;5;241m%\u001B[39m (\u001B[38;5;28mself\u001B[39m\u001B[38;5;241m.\u001B[39mformat))\n\u001B[0;32m    962\u001B[0m \u001B[38;5;28;01mif\u001B[39;00m \u001B[38;5;28mself\u001B[39m\u001B[38;5;241m.\u001B[39membed:\n\u001B[0;32m    963\u001B[0m     \u001B[38;5;28mself\u001B[39m\u001B[38;5;241m.\u001B[39m_mimetype \u001B[38;5;241m=\u001B[39m \u001B[38;5;28mself\u001B[39m\u001B[38;5;241m.\u001B[39m_MIMETYPES\u001B[38;5;241m.\u001B[39mget(\u001B[38;5;28mself\u001B[39m\u001B[38;5;241m.\u001B[39mformat)\n",
      "\u001B[1;31mValueError\u001B[0m: Cannot embed the 'svg' image format"
     ]
    }
   ],
   "source": [
    "\n",
    "tf.keras.utils.plot_model(tf_model, to_file=\"tf_model.svg\", show_shapes=True, dpi=None)\n"
   ],
   "metadata": {
    "collapsed": false,
    "ExecuteTime": {
     "end_time": "2023-12-15T19:03:32.352295Z",
     "start_time": "2023-12-15T19:03:32.221287600Z"
    }
   },
   "id": "62ab56c3e455adfa"
  },
  {
   "cell_type": "code",
   "execution_count": 15,
   "outputs": [
    {
     "data": {
      "image/png": "[encoded data removed]",
      "text/plain": "<IPython.core.display.Image object>"
     },
     "execution_count": 15,
     "metadata": {},
     "output_type": "execute_result"
    }
   ],
   "source": [
    "\n"
   ],
   "metadata": {
    "collapsed": false
   },
   "id": "e30daa1828d42090"
  },
  {
   "cell_type": "code",
   "execution_count": 75,
   "id": "16a14d376fcbb72f",
   "metadata": {
    "ExecuteTime": {
     "end_time": "2023-11-09T19:12:16.144205Z",
     "start_time": "2023-11-09T19:12:16.125252500Z"
    },
    "collapsed": false
   },
   "outputs": [],
   "source": [
    "\n",
    "model_save_path = os.path.join(\"../tf_models/mod1\")\n"
   ]
  },
  {
   "cell_type": "code",
   "execution_count": 76,
   "id": "307743b1e03c0027",
   "metadata": {
    "ExecuteTime": {
     "end_time": "2023-11-09T19:12:19.945092300Z",
     "start_time": "2023-11-09T19:12:19.933263800Z"
    },
    "collapsed": false
   },
   "outputs": [],
   "source": [
    "\n",
    "\n",
    "# Model checkpoint callback\n",
    "cp_callback = tf.keras.callbacks.ModelCheckpoint(\n",
    "    model_save_path, verbose=1, save_weights_only=False)\n",
    "\n",
    "# Callback for early stopping\n",
    "es_callback = tf.keras.callbacks.EarlyStopping(patience=20, verbose=1)\n",
    "\n"
   ]
  },
  {
   "cell_type": "code",
   "execution_count": 77,
   "id": "3db4f68d7ba149cf",
   "metadata": {
    "ExecuteTime": {
     "end_time": "2023-11-09T19:12:21.550255100Z",
     "start_time": "2023-11-09T19:12:21.525738500Z"
    },
    "collapsed": false
   },
   "outputs": [],
   "source": [
    "\n",
    "\n",
    "# Model compilation\n",
    "tf_model.compile(\n",
    "    optimizer='adam',\n",
    "    loss='sparse_categorical_crossentropy',\n",
    "    metrics=['accuracy']\n",
    ")\n",
    "\n"
   ]
  },
  {
   "cell_type": "code",
   "execution_count": 78,
   "id": "44ec49f915cf1186",
   "metadata": {
    "ExecuteTime": {
     "end_time": "2023-11-09T19:14:33.730880700Z",
     "start_time": "2023-11-09T19:12:23.218207600Z"
    },
    "collapsed": false
   },
   "outputs": [
    {
     "name": "stdout",
     "output_type": "stream",
     "text": [
      "Epoch 1/1000\n",
      "103/115 [=========================>....] - ETA: 0s - loss: 1.9375 - accuracy: 0.1647\n",
      "Epoch 1: saving model to ../tf_models\\mod1\n",
      "INFO:tensorflow:Assets written to: ../tf_models\\mod1\\assets\n"
     ]
    },
    {
     "name": "stderr",
     "output_type": "stream",
     "text": [
      "INFO:tensorflow:Assets written to: ../tf_models\\mod1\\assets\n"
     ]
    },
    {
     "name": "stdout",
     "output_type": "stream",
     "text": [
      "115/115 [==============================] - 1s 7ms/step - loss: 1.9342 - accuracy: 0.1679 - val_loss: 1.8821 - val_accuracy: 0.2276\n",
      "Epoch 2/1000\n",
      "107/115 [==========================>...] - ETA: 0s - loss: 1.8224 - accuracy: 0.2662\n",
      "Epoch 2: saving model to ../tf_models\\mod1\n",
      "INFO:tensorflow:Assets written to: ../tf_models\\mod1\\assets\n"
     ]
    },
    {
     "name": "stderr",
     "output_type": "stream",
     "text": [
      "INFO:tensorflow:Assets written to: ../tf_models\\mod1\\assets\n"
     ]
    },
    {
     "name": "stdout",
     "output_type": "stream",
     "text": [
      "115/115 [==============================] - 1s 6ms/step - loss: 1.8136 - accuracy: 0.2738 - val_loss: 1.5700 - val_accuracy: 0.5252\n",
      "Epoch 3/1000\n",
      "108/115 [===========================>..] - ETA: 0s - loss: 1.4201 - accuracy: 0.4825\n",
      "Epoch 3: saving model to ../tf_models\\mod1\n",
      "INFO:tensorflow:Assets written to: ../tf_models\\mod1\\assets\n"
     ]
    },
    {
     "name": "stderr",
     "output_type": "stream",
     "text": [
      "INFO:tensorflow:Assets written to: ../tf_models\\mod1\\assets\n"
     ]
    },
    {
     "name": "stdout",
     "output_type": "stream",
     "text": [
      "115/115 [==============================] - 1s 8ms/step - loss: 1.4085 - accuracy: 0.4870 - val_loss: 1.0339 - val_accuracy: 0.6863\n",
      "Epoch 4/1000\n",
      "107/115 [==========================>...] - ETA: 0s - loss: 1.0548 - accuracy: 0.6292\n",
      "Epoch 4: saving model to ../tf_models\\mod1\n",
      "INFO:tensorflow:Assets written to: ../tf_models\\mod1\\assets\n"
     ]
    },
    {
     "name": "stderr",
     "output_type": "stream",
     "text": [
      "INFO:tensorflow:Assets written to: ../tf_models\\mod1\\assets\n"
     ]
    },
    {
     "name": "stdout",
     "output_type": "stream",
     "text": [
      "115/115 [==============================] - 1s 5ms/step - loss: 1.0484 - accuracy: 0.6320 - val_loss: 0.7455 - val_accuracy: 0.8462\n",
      "Epoch 5/1000\n",
      "109/115 [===========================>..] - ETA: 0s - loss: 0.8205 - accuracy: 0.7444\n",
      "Epoch 5: saving model to ../tf_models\\mod1\n",
      "INFO:tensorflow:Assets written to: ../tf_models\\mod1\\assets\n"
     ]
    },
    {
     "name": "stderr",
     "output_type": "stream",
     "text": [
      "INFO:tensorflow:Assets written to: ../tf_models\\mod1\\assets\n"
     ]
    },
    {
     "name": "stdout",
     "output_type": "stream",
     "text": [
      "115/115 [==============================] - 1s 5ms/step - loss: 0.8182 - accuracy: 0.7446 - val_loss: 0.5280 - val_accuracy: 0.9087\n",
      "Epoch 6/1000\n",
      "109/115 [===========================>..] - ETA: 0s - loss: 0.6690 - accuracy: 0.8023\n",
      "Epoch 6: saving model to ../tf_models\\mod1\n",
      "INFO:tensorflow:Assets written to: ../tf_models\\mod1\\assets\n"
     ]
    },
    {
     "name": "stderr",
     "output_type": "stream",
     "text": [
      "INFO:tensorflow:Assets written to: ../tf_models\\mod1\\assets\n"
     ]
    },
    {
     "name": "stdout",
     "output_type": "stream",
     "text": [
      "115/115 [==============================] - 1s 5ms/step - loss: 0.6672 - accuracy: 0.8031 - val_loss: 0.3917 - val_accuracy: 0.9162\n",
      "Epoch 7/1000\n",
      "111/115 [===========================>..] - ETA: 0s - loss: 0.5544 - accuracy: 0.8388\n",
      "Epoch 7: saving model to ../tf_models\\mod1\n",
      "INFO:tensorflow:Assets written to: ../tf_models\\mod1\\assets\n"
     ]
    },
    {
     "name": "stderr",
     "output_type": "stream",
     "text": [
      "INFO:tensorflow:Assets written to: ../tf_models\\mod1\\assets\n"
     ]
    },
    {
     "name": "stdout",
     "output_type": "stream",
     "text": [
      "115/115 [==============================] - 1s 5ms/step - loss: 0.5541 - accuracy: 0.8387 - val_loss: 0.3114 - val_accuracy: 0.9289\n",
      "Epoch 8/1000\n",
      "104/115 [==========================>...] - ETA: 0s - loss: 0.5039 - accuracy: 0.8513\n",
      "Epoch 8: saving model to ../tf_models\\mod1\n",
      "INFO:tensorflow:Assets written to: ../tf_models\\mod1\\assets\n"
     ]
    },
    {
     "name": "stderr",
     "output_type": "stream",
     "text": [
      "INFO:tensorflow:Assets written to: ../tf_models\\mod1\\assets\n"
     ]
    },
    {
     "name": "stdout",
     "output_type": "stream",
     "text": [
      "115/115 [==============================] - 1s 6ms/step - loss: 0.5021 - accuracy: 0.8527 - val_loss: 0.2754 - val_accuracy: 0.9365\n",
      "Epoch 9/1000\n",
      "106/115 [==========================>...] - ETA: 0s - loss: 0.4482 - accuracy: 0.8726\n",
      "Epoch 9: saving model to ../tf_models\\mod1\n",
      "INFO:tensorflow:Assets written to: ../tf_models\\mod1\\assets\n"
     ]
    },
    {
     "name": "stderr",
     "output_type": "stream",
     "text": [
      "INFO:tensorflow:Assets written to: ../tf_models\\mod1\\assets\n"
     ]
    },
    {
     "name": "stdout",
     "output_type": "stream",
     "text": [
      "115/115 [==============================] - 1s 6ms/step - loss: 0.4451 - accuracy: 0.8739 - val_loss: 0.2641 - val_accuracy: 0.9322\n",
      "Epoch 10/1000\n",
      "108/115 [===========================>..] - ETA: 0s - loss: 0.4122 - accuracy: 0.8830\n",
      "Epoch 10: saving model to ../tf_models\\mod1\n",
      "INFO:tensorflow:Assets written to: ../tf_models\\mod1\\assets\n"
     ]
    },
    {
     "name": "stderr",
     "output_type": "stream",
     "text": [
      "INFO:tensorflow:Assets written to: ../tf_models\\mod1\\assets\n"
     ]
    },
    {
     "name": "stdout",
     "output_type": "stream",
     "text": [
      "115/115 [==============================] - 1s 7ms/step - loss: 0.4101 - accuracy: 0.8838 - val_loss: 0.2315 - val_accuracy: 0.9418\n",
      "Epoch 11/1000\n",
      "107/115 [==========================>...] - ETA: 0s - loss: 0.3828 - accuracy: 0.8911\n",
      "Epoch 11: saving model to ../tf_models\\mod1\n",
      "INFO:tensorflow:Assets written to: ../tf_models\\mod1\\assets\n"
     ]
    },
    {
     "name": "stderr",
     "output_type": "stream",
     "text": [
      "INFO:tensorflow:Assets written to: ../tf_models\\mod1\\assets\n"
     ]
    },
    {
     "name": "stdout",
     "output_type": "stream",
     "text": [
      "115/115 [==============================] - 1s 5ms/step - loss: 0.3853 - accuracy: 0.8906 - val_loss: 0.2212 - val_accuracy: 0.9454\n",
      "Epoch 12/1000\n",
      "107/115 [==========================>...] - ETA: 0s - loss: 0.3810 - accuracy: 0.8941\n",
      "Epoch 12: saving model to ../tf_models\\mod1\n",
      "INFO:tensorflow:Assets written to: ../tf_models\\mod1\\assets\n"
     ]
    },
    {
     "name": "stderr",
     "output_type": "stream",
     "text": [
      "INFO:tensorflow:Assets written to: ../tf_models\\mod1\\assets\n"
     ]
    },
    {
     "name": "stdout",
     "output_type": "stream",
     "text": [
      "115/115 [==============================] - 1s 6ms/step - loss: 0.3799 - accuracy: 0.8945 - val_loss: 0.2131 - val_accuracy: 0.9442\n",
      "Epoch 13/1000\n",
      "108/115 [===========================>..] - ETA: 0s - loss: 0.3505 - accuracy: 0.9029\n",
      "Epoch 13: saving model to ../tf_models\\mod1\n",
      "INFO:tensorflow:Assets written to: ../tf_models\\mod1\\assets\n"
     ]
    },
    {
     "name": "stderr",
     "output_type": "stream",
     "text": [
      "INFO:tensorflow:Assets written to: ../tf_models\\mod1\\assets\n"
     ]
    },
    {
     "name": "stdout",
     "output_type": "stream",
     "text": [
      "115/115 [==============================] - 1s 5ms/step - loss: 0.3486 - accuracy: 0.9036 - val_loss: 0.1949 - val_accuracy: 0.9514\n",
      "Epoch 14/1000\n",
      "109/115 [===========================>..] - ETA: 0s - loss: 0.3409 - accuracy: 0.9080\n",
      "Epoch 14: saving model to ../tf_models\\mod1\n",
      "INFO:tensorflow:Assets written to: ../tf_models\\mod1\\assets\n"
     ]
    },
    {
     "name": "stderr",
     "output_type": "stream",
     "text": [
      "INFO:tensorflow:Assets written to: ../tf_models\\mod1\\assets\n"
     ]
    },
    {
     "name": "stdout",
     "output_type": "stream",
     "text": [
      "115/115 [==============================] - 1s 6ms/step - loss: 0.3399 - accuracy: 0.9086 - val_loss: 0.1849 - val_accuracy: 0.9522\n",
      "Epoch 15/1000\n",
      "108/115 [===========================>..] - ETA: 0s - loss: 0.3201 - accuracy: 0.9146\n",
      "Epoch 15: saving model to ../tf_models\\mod1\n",
      "INFO:tensorflow:Assets written to: ../tf_models\\mod1\\assets\n"
     ]
    },
    {
     "name": "stderr",
     "output_type": "stream",
     "text": [
      "INFO:tensorflow:Assets written to: ../tf_models\\mod1\\assets\n"
     ]
    },
    {
     "name": "stdout",
     "output_type": "stream",
     "text": [
      "115/115 [==============================] - 1s 5ms/step - loss: 0.3217 - accuracy: 0.9139 - val_loss: 0.1739 - val_accuracy: 0.9561\n",
      "Epoch 16/1000\n",
      "109/115 [===========================>..] - ETA: 0s - loss: 0.3056 - accuracy: 0.9174\n",
      "Epoch 16: saving model to ../tf_models\\mod1\n",
      "INFO:tensorflow:Assets written to: ../tf_models\\mod1\\assets\n"
     ]
    },
    {
     "name": "stderr",
     "output_type": "stream",
     "text": [
      "INFO:tensorflow:Assets written to: ../tf_models\\mod1\\assets\n"
     ]
    },
    {
     "name": "stdout",
     "output_type": "stream",
     "text": [
      "115/115 [==============================] - 1s 5ms/step - loss: 0.3025 - accuracy: 0.9185 - val_loss: 0.1674 - val_accuracy: 0.9592\n",
      "Epoch 17/1000\n",
      "110/115 [===========================>..] - ETA: 0s - loss: 0.3008 - accuracy: 0.9175\n",
      "Epoch 17: saving model to ../tf_models\\mod1\n",
      "INFO:tensorflow:Assets written to: ../tf_models\\mod1\\assets\n"
     ]
    },
    {
     "name": "stderr",
     "output_type": "stream",
     "text": [
      "INFO:tensorflow:Assets written to: ../tf_models\\mod1\\assets\n"
     ]
    },
    {
     "name": "stdout",
     "output_type": "stream",
     "text": [
      "115/115 [==============================] - 1s 5ms/step - loss: 0.3009 - accuracy: 0.9171 - val_loss: 0.1629 - val_accuracy: 0.9576\n",
      "Epoch 18/1000\n",
      "108/115 [===========================>..] - ETA: 0s - loss: 0.2846 - accuracy: 0.9266\n",
      "Epoch 18: saving model to ../tf_models\\mod1\n",
      "INFO:tensorflow:Assets written to: ../tf_models\\mod1\\assets\n"
     ]
    },
    {
     "name": "stderr",
     "output_type": "stream",
     "text": [
      "INFO:tensorflow:Assets written to: ../tf_models\\mod1\\assets\n"
     ]
    },
    {
     "name": "stdout",
     "output_type": "stream",
     "text": [
      "115/115 [==============================] - 1s 7ms/step - loss: 0.2833 - accuracy: 0.9268 - val_loss: 0.1663 - val_accuracy: 0.9571\n",
      "Epoch 19/1000\n",
      "109/115 [===========================>..] - ETA: 0s - loss: 0.2798 - accuracy: 0.9239\n",
      "Epoch 19: saving model to ../tf_models\\mod1\n",
      "INFO:tensorflow:Assets written to: ../tf_models\\mod1\\assets\n"
     ]
    },
    {
     "name": "stderr",
     "output_type": "stream",
     "text": [
      "INFO:tensorflow:Assets written to: ../tf_models\\mod1\\assets\n"
     ]
    },
    {
     "name": "stdout",
     "output_type": "stream",
     "text": [
      "115/115 [==============================] - 1s 5ms/step - loss: 0.2763 - accuracy: 0.9249 - val_loss: 0.1598 - val_accuracy: 0.9577\n",
      "Epoch 20/1000\n",
      "108/115 [===========================>..] - ETA: 0s - loss: 0.2696 - accuracy: 0.9266\n",
      "Epoch 20: saving model to ../tf_models\\mod1\n",
      "INFO:tensorflow:Assets written to: ../tf_models\\mod1\\assets\n"
     ]
    },
    {
     "name": "stderr",
     "output_type": "stream",
     "text": [
      "INFO:tensorflow:Assets written to: ../tf_models\\mod1\\assets\n"
     ]
    },
    {
     "name": "stdout",
     "output_type": "stream",
     "text": [
      "115/115 [==============================] - 1s 6ms/step - loss: 0.2696 - accuracy: 0.9263 - val_loss: 0.1496 - val_accuracy: 0.9616\n",
      "Epoch 21/1000\n",
      "108/115 [===========================>..] - ETA: 0s - loss: 0.2572 - accuracy: 0.9316\n",
      "Epoch 21: saving model to ../tf_models\\mod1\n",
      "INFO:tensorflow:Assets written to: ../tf_models\\mod1\\assets\n"
     ]
    },
    {
     "name": "stderr",
     "output_type": "stream",
     "text": [
      "INFO:tensorflow:Assets written to: ../tf_models\\mod1\\assets\n"
     ]
    },
    {
     "name": "stdout",
     "output_type": "stream",
     "text": [
      "115/115 [==============================] - 1s 6ms/step - loss: 0.2559 - accuracy: 0.9314 - val_loss: 0.1415 - val_accuracy: 0.9634\n",
      "Epoch 22/1000\n",
      "108/115 [===========================>..] - ETA: 0s - loss: 0.2514 - accuracy: 0.9311\n",
      "Epoch 22: saving model to ../tf_models\\mod1\n",
      "INFO:tensorflow:Assets written to: ../tf_models\\mod1\\assets\n"
     ]
    },
    {
     "name": "stderr",
     "output_type": "stream",
     "text": [
      "INFO:tensorflow:Assets written to: ../tf_models\\mod1\\assets\n"
     ]
    },
    {
     "name": "stdout",
     "output_type": "stream",
     "text": [
      "115/115 [==============================] - 1s 5ms/step - loss: 0.2523 - accuracy: 0.9306 - val_loss: 0.1528 - val_accuracy: 0.9609\n",
      "Epoch 23/1000\n",
      "108/115 [===========================>..] - ETA: 0s - loss: 0.2473 - accuracy: 0.9329\n",
      "Epoch 23: saving model to ../tf_models\\mod1\n",
      "INFO:tensorflow:Assets written to: ../tf_models\\mod1\\assets\n"
     ]
    },
    {
     "name": "stderr",
     "output_type": "stream",
     "text": [
      "INFO:tensorflow:Assets written to: ../tf_models\\mod1\\assets\n"
     ]
    },
    {
     "name": "stdout",
     "output_type": "stream",
     "text": [
      "115/115 [==============================] - 1s 6ms/step - loss: 0.2488 - accuracy: 0.9326 - val_loss: 0.1416 - val_accuracy: 0.9620\n",
      "Epoch 24/1000\n",
      "106/115 [==========================>...] - ETA: 0s - loss: 0.2486 - accuracy: 0.9320\n",
      "Epoch 24: saving model to ../tf_models\\mod1\n",
      "INFO:tensorflow:Assets written to: ../tf_models\\mod1\\assets\n"
     ]
    },
    {
     "name": "stderr",
     "output_type": "stream",
     "text": [
      "INFO:tensorflow:Assets written to: ../tf_models\\mod1\\assets\n"
     ]
    },
    {
     "name": "stdout",
     "output_type": "stream",
     "text": [
      "115/115 [==============================] - 1s 6ms/step - loss: 0.2510 - accuracy: 0.9310 - val_loss: 0.1314 - val_accuracy: 0.9682\n",
      "Epoch 25/1000\n",
      "105/115 [==========================>...] - ETA: 0s - loss: 0.2361 - accuracy: 0.9374\n",
      "Epoch 25: saving model to ../tf_models\\mod1\n",
      "INFO:tensorflow:Assets written to: ../tf_models\\mod1\\assets\n"
     ]
    },
    {
     "name": "stderr",
     "output_type": "stream",
     "text": [
      "INFO:tensorflow:Assets written to: ../tf_models\\mod1\\assets\n"
     ]
    },
    {
     "name": "stdout",
     "output_type": "stream",
     "text": [
      "115/115 [==============================] - 1s 6ms/step - loss: 0.2354 - accuracy: 0.9378 - val_loss: 0.1310 - val_accuracy: 0.9672\n",
      "Epoch 26/1000\n",
      "108/115 [===========================>..] - ETA: 0s - loss: 0.2396 - accuracy: 0.9354\n",
      "Epoch 26: saving model to ../tf_models\\mod1\n",
      "INFO:tensorflow:Assets written to: ../tf_models\\mod1\\assets\n"
     ]
    },
    {
     "name": "stderr",
     "output_type": "stream",
     "text": [
      "INFO:tensorflow:Assets written to: ../tf_models\\mod1\\assets\n"
     ]
    },
    {
     "name": "stdout",
     "output_type": "stream",
     "text": [
      "115/115 [==============================] - 1s 7ms/step - loss: 0.2372 - accuracy: 0.9365 - val_loss: 0.1303 - val_accuracy: 0.9658\n",
      "Epoch 27/1000\n",
      "110/115 [===========================>..] - ETA: 0s - loss: 0.2297 - accuracy: 0.9371\n",
      "Epoch 27: saving model to ../tf_models\\mod1\n",
      "INFO:tensorflow:Assets written to: ../tf_models\\mod1\\assets\n"
     ]
    },
    {
     "name": "stderr",
     "output_type": "stream",
     "text": [
      "INFO:tensorflow:Assets written to: ../tf_models\\mod1\\assets\n"
     ]
    },
    {
     "name": "stdout",
     "output_type": "stream",
     "text": [
      "115/115 [==============================] - 1s 5ms/step - loss: 0.2281 - accuracy: 0.9375 - val_loss: 0.1429 - val_accuracy: 0.9609\n",
      "Epoch 28/1000\n",
      "110/115 [===========================>..] - ETA: 0s - loss: 0.2270 - accuracy: 0.9387\n",
      "Epoch 28: saving model to ../tf_models\\mod1\n",
      "INFO:tensorflow:Assets written to: ../tf_models\\mod1\\assets\n"
     ]
    },
    {
     "name": "stderr",
     "output_type": "stream",
     "text": [
      "INFO:tensorflow:Assets written to: ../tf_models\\mod1\\assets\n"
     ]
    },
    {
     "name": "stdout",
     "output_type": "stream",
     "text": [
      "115/115 [==============================] - 1s 5ms/step - loss: 0.2263 - accuracy: 0.9391 - val_loss: 0.1249 - val_accuracy: 0.9672\n",
      "Epoch 29/1000\n",
      "108/115 [===========================>..] - ETA: 0s - loss: 0.2194 - accuracy: 0.9401\n",
      "Epoch 29: saving model to ../tf_models\\mod1\n",
      "INFO:tensorflow:Assets written to: ../tf_models\\mod1\\assets\n"
     ]
    },
    {
     "name": "stderr",
     "output_type": "stream",
     "text": [
      "INFO:tensorflow:Assets written to: ../tf_models\\mod1\\assets\n"
     ]
    },
    {
     "name": "stdout",
     "output_type": "stream",
     "text": [
      "115/115 [==============================] - 1s 5ms/step - loss: 0.2200 - accuracy: 0.9401 - val_loss: 0.1315 - val_accuracy: 0.9653\n",
      "Epoch 30/1000\n",
      "109/115 [===========================>..] - ETA: 0s - loss: 0.2166 - accuracy: 0.9412\n",
      "Epoch 30: saving model to ../tf_models\\mod1\n",
      "INFO:tensorflow:Assets written to: ../tf_models\\mod1\\assets\n"
     ]
    },
    {
     "name": "stderr",
     "output_type": "stream",
     "text": [
      "INFO:tensorflow:Assets written to: ../tf_models\\mod1\\assets\n"
     ]
    },
    {
     "name": "stdout",
     "output_type": "stream",
     "text": [
      "115/115 [==============================] - 1s 5ms/step - loss: 0.2166 - accuracy: 0.9410 - val_loss: 0.1198 - val_accuracy: 0.9685\n",
      "Epoch 31/1000\n",
      "110/115 [===========================>..] - ETA: 0s - loss: 0.2096 - accuracy: 0.9425\n",
      "Epoch 31: saving model to ../tf_models\\mod1\n",
      "INFO:tensorflow:Assets written to: ../tf_models\\mod1\\assets\n"
     ]
    },
    {
     "name": "stderr",
     "output_type": "stream",
     "text": [
      "INFO:tensorflow:Assets written to: ../tf_models\\mod1\\assets\n"
     ]
    },
    {
     "name": "stdout",
     "output_type": "stream",
     "text": [
      "115/115 [==============================] - 1s 5ms/step - loss: 0.2111 - accuracy: 0.9418 - val_loss: 0.1156 - val_accuracy: 0.9710\n",
      "Epoch 32/1000\n",
      "107/115 [==========================>...] - ETA: 0s - loss: 0.2113 - accuracy: 0.9423\n",
      "Epoch 32: saving model to ../tf_models\\mod1\n",
      "INFO:tensorflow:Assets written to: ../tf_models\\mod1\\assets\n"
     ]
    },
    {
     "name": "stderr",
     "output_type": "stream",
     "text": [
      "INFO:tensorflow:Assets written to: ../tf_models\\mod1\\assets\n"
     ]
    },
    {
     "name": "stdout",
     "output_type": "stream",
     "text": [
      "115/115 [==============================] - 1s 6ms/step - loss: 0.2104 - accuracy: 0.9426 - val_loss: 0.1149 - val_accuracy: 0.9707\n",
      "Epoch 33/1000\n",
      "109/115 [===========================>..] - ETA: 0s - loss: 0.2072 - accuracy: 0.9439\n",
      "Epoch 33: saving model to ../tf_models\\mod1\n",
      "INFO:tensorflow:Assets written to: ../tf_models\\mod1\\assets\n"
     ]
    },
    {
     "name": "stderr",
     "output_type": "stream",
     "text": [
      "INFO:tensorflow:Assets written to: ../tf_models\\mod1\\assets\n"
     ]
    },
    {
     "name": "stdout",
     "output_type": "stream",
     "text": [
      "115/115 [==============================] - 1s 5ms/step - loss: 0.2096 - accuracy: 0.9433 - val_loss: 0.1228 - val_accuracy: 0.9693\n",
      "Epoch 34/1000\n",
      "102/115 [=========================>....] - ETA: 0s - loss: 0.2043 - accuracy: 0.9454\n",
      "Epoch 34: saving model to ../tf_models\\mod1\n",
      "INFO:tensorflow:Assets written to: ../tf_models\\mod1\\assets\n"
     ]
    },
    {
     "name": "stderr",
     "output_type": "stream",
     "text": [
      "INFO:tensorflow:Assets written to: ../tf_models\\mod1\\assets\n"
     ]
    },
    {
     "name": "stdout",
     "output_type": "stream",
     "text": [
      "115/115 [==============================] - 1s 6ms/step - loss: 0.2034 - accuracy: 0.9461 - val_loss: 0.1164 - val_accuracy: 0.9680\n",
      "Epoch 35/1000\n",
      "108/115 [===========================>..] - ETA: 0s - loss: 0.2018 - accuracy: 0.9452\n",
      "Epoch 35: saving model to ../tf_models\\mod1\n",
      "INFO:tensorflow:Assets written to: ../tf_models\\mod1\\assets\n"
     ]
    },
    {
     "name": "stderr",
     "output_type": "stream",
     "text": [
      "INFO:tensorflow:Assets written to: ../tf_models\\mod1\\assets\n"
     ]
    },
    {
     "name": "stdout",
     "output_type": "stream",
     "text": [
      "115/115 [==============================] - 1s 7ms/step - loss: 0.1979 - accuracy: 0.9462 - val_loss: 0.1063 - val_accuracy: 0.9729\n",
      "Epoch 36/1000\n",
      "109/115 [===========================>..] - ETA: 0s - loss: 0.1965 - accuracy: 0.9480\n",
      "Epoch 36: saving model to ../tf_models\\mod1\n",
      "INFO:tensorflow:Assets written to: ../tf_models\\mod1\\assets\n"
     ]
    },
    {
     "name": "stderr",
     "output_type": "stream",
     "text": [
      "INFO:tensorflow:Assets written to: ../tf_models\\mod1\\assets\n"
     ]
    },
    {
     "name": "stdout",
     "output_type": "stream",
     "text": [
      "115/115 [==============================] - 1s 5ms/step - loss: 0.1964 - accuracy: 0.9481 - val_loss: 0.1360 - val_accuracy: 0.9630\n",
      "Epoch 37/1000\n",
      "108/115 [===========================>..] - ETA: 0s - loss: 0.1964 - accuracy: 0.9461\n",
      "Epoch 37: saving model to ../tf_models\\mod1\n",
      "INFO:tensorflow:Assets written to: ../tf_models\\mod1\\assets\n"
     ]
    },
    {
     "name": "stderr",
     "output_type": "stream",
     "text": [
      "INFO:tensorflow:Assets written to: ../tf_models\\mod1\\assets\n"
     ]
    },
    {
     "name": "stdout",
     "output_type": "stream",
     "text": [
      "115/115 [==============================] - 1s 6ms/step - loss: 0.1965 - accuracy: 0.9454 - val_loss: 0.1023 - val_accuracy: 0.9742\n",
      "Epoch 38/1000\n",
      "108/115 [===========================>..] - ETA: 0s - loss: 0.1885 - accuracy: 0.9473\n",
      "Epoch 38: saving model to ../tf_models\\mod1\n",
      "INFO:tensorflow:Assets written to: ../tf_models\\mod1\\assets\n"
     ]
    },
    {
     "name": "stderr",
     "output_type": "stream",
     "text": [
      "INFO:tensorflow:Assets written to: ../tf_models\\mod1\\assets\n"
     ]
    },
    {
     "name": "stdout",
     "output_type": "stream",
     "text": [
      "115/115 [==============================] - 1s 6ms/step - loss: 0.1871 - accuracy: 0.9477 - val_loss: 0.1044 - val_accuracy: 0.9737\n",
      "Epoch 39/1000\n",
      "109/115 [===========================>..] - ETA: 0s - loss: 0.1949 - accuracy: 0.9484\n",
      "Epoch 39: saving model to ../tf_models\\mod1\n",
      "INFO:tensorflow:Assets written to: ../tf_models\\mod1\\assets\n"
     ]
    },
    {
     "name": "stderr",
     "output_type": "stream",
     "text": [
      "INFO:tensorflow:Assets written to: ../tf_models\\mod1\\assets\n"
     ]
    },
    {
     "name": "stdout",
     "output_type": "stream",
     "text": [
      "115/115 [==============================] - 1s 6ms/step - loss: 0.1936 - accuracy: 0.9486 - val_loss: 0.1051 - val_accuracy: 0.9715\n",
      "Epoch 40/1000\n",
      "105/115 [==========================>...] - ETA: 0s - loss: 0.1813 - accuracy: 0.9508\n",
      "Epoch 40: saving model to ../tf_models\\mod1\n",
      "INFO:tensorflow:Assets written to: ../tf_models\\mod1\\assets\n"
     ]
    },
    {
     "name": "stderr",
     "output_type": "stream",
     "text": [
      "INFO:tensorflow:Assets written to: ../tf_models\\mod1\\assets\n"
     ]
    },
    {
     "name": "stdout",
     "output_type": "stream",
     "text": [
      "115/115 [==============================] - 1s 6ms/step - loss: 0.1809 - accuracy: 0.9510 - val_loss: 0.1078 - val_accuracy: 0.9724\n",
      "Epoch 41/1000\n",
      "108/115 [===========================>..] - ETA: 0s - loss: 0.1849 - accuracy: 0.9496\n",
      "Epoch 41: saving model to ../tf_models\\mod1\n",
      "INFO:tensorflow:Assets written to: ../tf_models\\mod1\\assets\n"
     ]
    },
    {
     "name": "stderr",
     "output_type": "stream",
     "text": [
      "INFO:tensorflow:Assets written to: ../tf_models\\mod1\\assets\n"
     ]
    },
    {
     "name": "stdout",
     "output_type": "stream",
     "text": [
      "115/115 [==============================] - 1s 6ms/step - loss: 0.1837 - accuracy: 0.9504 - val_loss: 0.0935 - val_accuracy: 0.9764\n",
      "Epoch 42/1000\n",
      "110/115 [===========================>..] - ETA: 0s - loss: 0.1844 - accuracy: 0.9508\n",
      "Epoch 42: saving model to ../tf_models\\mod1\n",
      "INFO:tensorflow:Assets written to: ../tf_models\\mod1\\assets\n"
     ]
    },
    {
     "name": "stderr",
     "output_type": "stream",
     "text": [
      "INFO:tensorflow:Assets written to: ../tf_models\\mod1\\assets\n"
     ]
    },
    {
     "name": "stdout",
     "output_type": "stream",
     "text": [
      "115/115 [==============================] - 1s 5ms/step - loss: 0.1854 - accuracy: 0.9501 - val_loss: 0.0980 - val_accuracy: 0.9747\n",
      "Epoch 43/1000\n",
      "111/115 [===========================>..] - ETA: 0s - loss: 0.1819 - accuracy: 0.9500\n",
      "Epoch 43: saving model to ../tf_models\\mod1\n",
      "INFO:tensorflow:Assets written to: ../tf_models\\mod1\\assets\n"
     ]
    },
    {
     "name": "stderr",
     "output_type": "stream",
     "text": [
      "INFO:tensorflow:Assets written to: ../tf_models\\mod1\\assets\n"
     ]
    },
    {
     "name": "stdout",
     "output_type": "stream",
     "text": [
      "115/115 [==============================] - 1s 7ms/step - loss: 0.1849 - accuracy: 0.9492 - val_loss: 0.1099 - val_accuracy: 0.9709\n",
      "Epoch 44/1000\n",
      "106/115 [==========================>...] - ETA: 0s - loss: 0.1813 - accuracy: 0.9499\n",
      "Epoch 44: saving model to ../tf_models\\mod1\n",
      "INFO:tensorflow:Assets written to: ../tf_models\\mod1\\assets\n"
     ]
    },
    {
     "name": "stderr",
     "output_type": "stream",
     "text": [
      "INFO:tensorflow:Assets written to: ../tf_models\\mod1\\assets\n"
     ]
    },
    {
     "name": "stdout",
     "output_type": "stream",
     "text": [
      "115/115 [==============================] - 1s 6ms/step - loss: 0.1838 - accuracy: 0.9494 - val_loss: 0.0998 - val_accuracy: 0.9721\n",
      "Epoch 45/1000\n",
      "107/115 [==========================>...] - ETA: 0s - loss: 0.1789 - accuracy: 0.9521\n",
      "Epoch 45: saving model to ../tf_models\\mod1\n",
      "INFO:tensorflow:Assets written to: ../tf_models\\mod1\\assets\n"
     ]
    },
    {
     "name": "stderr",
     "output_type": "stream",
     "text": [
      "INFO:tensorflow:Assets written to: ../tf_models\\mod1\\assets\n"
     ]
    },
    {
     "name": "stdout",
     "output_type": "stream",
     "text": [
      "115/115 [==============================] - 1s 5ms/step - loss: 0.1797 - accuracy: 0.9517 - val_loss: 0.1025 - val_accuracy: 0.9739\n",
      "Epoch 46/1000\n",
      "110/115 [===========================>..] - ETA: 0s - loss: 0.1740 - accuracy: 0.9528\n",
      "Epoch 46: saving model to ../tf_models\\mod1\n",
      "INFO:tensorflow:Assets written to: ../tf_models\\mod1\\assets\n"
     ]
    },
    {
     "name": "stderr",
     "output_type": "stream",
     "text": [
      "INFO:tensorflow:Assets written to: ../tf_models\\mod1\\assets\n"
     ]
    },
    {
     "name": "stdout",
     "output_type": "stream",
     "text": [
      "115/115 [==============================] - 1s 5ms/step - loss: 0.1737 - accuracy: 0.9528 - val_loss: 0.1047 - val_accuracy: 0.9728\n",
      "Epoch 47/1000\n",
      "111/115 [===========================>..] - ETA: 0s - loss: 0.1845 - accuracy: 0.9507\n",
      "Epoch 47: saving model to ../tf_models\\mod1\n",
      "INFO:tensorflow:Assets written to: ../tf_models\\mod1\\assets\n"
     ]
    },
    {
     "name": "stderr",
     "output_type": "stream",
     "text": [
      "INFO:tensorflow:Assets written to: ../tf_models\\mod1\\assets\n"
     ]
    },
    {
     "name": "stdout",
     "output_type": "stream",
     "text": [
      "115/115 [==============================] - 1s 5ms/step - loss: 0.1826 - accuracy: 0.9511 - val_loss: 0.0935 - val_accuracy: 0.9755\n",
      "Epoch 48/1000\n",
      "108/115 [===========================>..] - ETA: 0s - loss: 0.1606 - accuracy: 0.9558\n",
      "Epoch 48: saving model to ../tf_models\\mod1\n",
      "INFO:tensorflow:Assets written to: ../tf_models\\mod1\\assets\n"
     ]
    },
    {
     "name": "stderr",
     "output_type": "stream",
     "text": [
      "INFO:tensorflow:Assets written to: ../tf_models\\mod1\\assets\n"
     ]
    },
    {
     "name": "stdout",
     "output_type": "stream",
     "text": [
      "115/115 [==============================] - 1s 5ms/step - loss: 0.1620 - accuracy: 0.9555 - val_loss: 0.0905 - val_accuracy: 0.9766\n",
      "Epoch 49/1000\n",
      "109/115 [===========================>..] - ETA: 0s - loss: 0.1734 - accuracy: 0.9512\n",
      "Epoch 49: saving model to ../tf_models\\mod1\n",
      "INFO:tensorflow:Assets written to: ../tf_models\\mod1\\assets\n"
     ]
    },
    {
     "name": "stderr",
     "output_type": "stream",
     "text": [
      "INFO:tensorflow:Assets written to: ../tf_models\\mod1\\assets\n"
     ]
    },
    {
     "name": "stdout",
     "output_type": "stream",
     "text": [
      "115/115 [==============================] - 1s 5ms/step - loss: 0.1728 - accuracy: 0.9514 - val_loss: 0.1027 - val_accuracy: 0.9720\n",
      "Epoch 50/1000\n",
      "109/115 [===========================>..] - ETA: 0s - loss: 0.1697 - accuracy: 0.9547\n",
      "Epoch 50: saving model to ../tf_models\\mod1\n",
      "INFO:tensorflow:Assets written to: ../tf_models\\mod1\\assets\n"
     ]
    },
    {
     "name": "stderr",
     "output_type": "stream",
     "text": [
      "INFO:tensorflow:Assets written to: ../tf_models\\mod1\\assets\n"
     ]
    },
    {
     "name": "stdout",
     "output_type": "stream",
     "text": [
      "115/115 [==============================] - 1s 6ms/step - loss: 0.1675 - accuracy: 0.9554 - val_loss: 0.1048 - val_accuracy: 0.9726\n",
      "Epoch 51/1000\n",
      "110/115 [===========================>..] - ETA: 0s - loss: 0.1610 - accuracy: 0.9563\n",
      "Epoch 51: saving model to ../tf_models\\mod1\n",
      "INFO:tensorflow:Assets written to: ../tf_models\\mod1\\assets\n"
     ]
    },
    {
     "name": "stderr",
     "output_type": "stream",
     "text": [
      "INFO:tensorflow:Assets written to: ../tf_models\\mod1\\assets\n"
     ]
    },
    {
     "name": "stdout",
     "output_type": "stream",
     "text": [
      "115/115 [==============================] - 1s 5ms/step - loss: 0.1627 - accuracy: 0.9558 - val_loss: 0.1000 - val_accuracy: 0.9740\n",
      "Epoch 52/1000\n",
      "109/115 [===========================>..] - ETA: 0s - loss: 0.1629 - accuracy: 0.9558\n",
      "Epoch 52: saving model to ../tf_models\\mod1\n",
      "INFO:tensorflow:Assets written to: ../tf_models\\mod1\\assets\n"
     ]
    },
    {
     "name": "stderr",
     "output_type": "stream",
     "text": [
      "INFO:tensorflow:Assets written to: ../tf_models\\mod1\\assets\n"
     ]
    },
    {
     "name": "stdout",
     "output_type": "stream",
     "text": [
      "115/115 [==============================] - 1s 7ms/step - loss: 0.1634 - accuracy: 0.9556 - val_loss: 0.0923 - val_accuracy: 0.9765\n",
      "Epoch 53/1000\n",
      "111/115 [===========================>..] - ETA: 0s - loss: 0.1633 - accuracy: 0.9569\n",
      "Epoch 53: saving model to ../tf_models\\mod1\n",
      "INFO:tensorflow:Assets written to: ../tf_models\\mod1\\assets\n"
     ]
    },
    {
     "name": "stderr",
     "output_type": "stream",
     "text": [
      "INFO:tensorflow:Assets written to: ../tf_models\\mod1\\assets\n"
     ]
    },
    {
     "name": "stdout",
     "output_type": "stream",
     "text": [
      "115/115 [==============================] - 1s 5ms/step - loss: 0.1631 - accuracy: 0.9566 - val_loss: 0.0892 - val_accuracy: 0.9770\n",
      "Epoch 54/1000\n",
      "108/115 [===========================>..] - ETA: 0s - loss: 0.1612 - accuracy: 0.9558\n",
      "Epoch 54: saving model to ../tf_models\\mod1\n",
      "INFO:tensorflow:Assets written to: ../tf_models\\mod1\\assets\n"
     ]
    },
    {
     "name": "stderr",
     "output_type": "stream",
     "text": [
      "INFO:tensorflow:Assets written to: ../tf_models\\mod1\\assets\n"
     ]
    },
    {
     "name": "stdout",
     "output_type": "stream",
     "text": [
      "115/115 [==============================] - 1s 6ms/step - loss: 0.1624 - accuracy: 0.9555 - val_loss: 0.0877 - val_accuracy: 0.9762\n",
      "Epoch 55/1000\n",
      "105/115 [==========================>...] - ETA: 0s - loss: 0.1617 - accuracy: 0.9551\n",
      "Epoch 55: saving model to ../tf_models\\mod1\n",
      "INFO:tensorflow:Assets written to: ../tf_models\\mod1\\assets\n"
     ]
    },
    {
     "name": "stderr",
     "output_type": "stream",
     "text": [
      "INFO:tensorflow:Assets written to: ../tf_models\\mod1\\assets\n"
     ]
    },
    {
     "name": "stdout",
     "output_type": "stream",
     "text": [
      "115/115 [==============================] - 1s 6ms/step - loss: 0.1610 - accuracy: 0.9553 - val_loss: 0.0882 - val_accuracy: 0.9766\n",
      "Epoch 56/1000\n",
      "106/115 [==========================>...] - ETA: 0s - loss: 0.1628 - accuracy: 0.9539\n",
      "Epoch 56: saving model to ../tf_models\\mod1\n",
      "INFO:tensorflow:Assets written to: ../tf_models\\mod1\\assets\n"
     ]
    },
    {
     "name": "stderr",
     "output_type": "stream",
     "text": [
      "INFO:tensorflow:Assets written to: ../tf_models\\mod1\\assets\n"
     ]
    },
    {
     "name": "stdout",
     "output_type": "stream",
     "text": [
      "115/115 [==============================] - 1s 6ms/step - loss: 0.1620 - accuracy: 0.9543 - val_loss: 0.0842 - val_accuracy: 0.9772\n",
      "Epoch 57/1000\n",
      "108/115 [===========================>..] - ETA: 0s - loss: 0.1641 - accuracy: 0.9553\n",
      "Epoch 57: saving model to ../tf_models\\mod1\n",
      "INFO:tensorflow:Assets written to: ../tf_models\\mod1\\assets\n"
     ]
    },
    {
     "name": "stderr",
     "output_type": "stream",
     "text": [
      "INFO:tensorflow:Assets written to: ../tf_models\\mod1\\assets\n"
     ]
    },
    {
     "name": "stdout",
     "output_type": "stream",
     "text": [
      "115/115 [==============================] - 1s 5ms/step - loss: 0.1633 - accuracy: 0.9552 - val_loss: 0.0847 - val_accuracy: 0.9774\n",
      "Epoch 58/1000\n",
      "110/115 [===========================>..] - ETA: 0s - loss: 0.1668 - accuracy: 0.9553\n",
      "Epoch 58: saving model to ../tf_models\\mod1\n",
      "INFO:tensorflow:Assets written to: ../tf_models\\mod1\\assets\n"
     ]
    },
    {
     "name": "stderr",
     "output_type": "stream",
     "text": [
      "INFO:tensorflow:Assets written to: ../tf_models\\mod1\\assets\n"
     ]
    },
    {
     "name": "stdout",
     "output_type": "stream",
     "text": [
      "115/115 [==============================] - 1s 5ms/step - loss: 0.1659 - accuracy: 0.9558 - val_loss: 0.0890 - val_accuracy: 0.9765\n",
      "Epoch 59/1000\n",
      "112/115 [============================>.] - ETA: 0s - loss: 0.1526 - accuracy: 0.9587\n",
      "Epoch 59: saving model to ../tf_models\\mod1\n",
      "INFO:tensorflow:Assets written to: ../tf_models\\mod1\\assets\n"
     ]
    },
    {
     "name": "stderr",
     "output_type": "stream",
     "text": [
      "INFO:tensorflow:Assets written to: ../tf_models\\mod1\\assets\n"
     ]
    },
    {
     "name": "stdout",
     "output_type": "stream",
     "text": [
      "115/115 [==============================] - 1s 7ms/step - loss: 0.1531 - accuracy: 0.9583 - val_loss: 0.0833 - val_accuracy: 0.9782\n",
      "Epoch 60/1000\n",
      "107/115 [==========================>...] - ETA: 0s - loss: 0.1616 - accuracy: 0.9563\n",
      "Epoch 60: saving model to ../tf_models\\mod1\n",
      "INFO:tensorflow:Assets written to: ../tf_models\\mod1\\assets\n"
     ]
    },
    {
     "name": "stderr",
     "output_type": "stream",
     "text": [
      "INFO:tensorflow:Assets written to: ../tf_models\\mod1\\assets\n"
     ]
    },
    {
     "name": "stdout",
     "output_type": "stream",
     "text": [
      "115/115 [==============================] - 1s 5ms/step - loss: 0.1611 - accuracy: 0.9564 - val_loss: 0.0877 - val_accuracy: 0.9767\n",
      "Epoch 61/1000\n",
      "110/115 [===========================>..] - ETA: 0s - loss: 0.1599 - accuracy: 0.9550\n",
      "Epoch 61: saving model to ../tf_models\\mod1\n",
      "INFO:tensorflow:Assets written to: ../tf_models\\mod1\\assets\n"
     ]
    },
    {
     "name": "stderr",
     "output_type": "stream",
     "text": [
      "INFO:tensorflow:Assets written to: ../tf_models\\mod1\\assets\n"
     ]
    },
    {
     "name": "stdout",
     "output_type": "stream",
     "text": [
      "115/115 [==============================] - 1s 5ms/step - loss: 0.1614 - accuracy: 0.9550 - val_loss: 0.0980 - val_accuracy: 0.9743\n",
      "Epoch 62/1000\n",
      "110/115 [===========================>..] - ETA: 0s - loss: 0.1544 - accuracy: 0.9572\n",
      "Epoch 62: saving model to ../tf_models\\mod1\n",
      "INFO:tensorflow:Assets written to: ../tf_models\\mod1\\assets\n"
     ]
    },
    {
     "name": "stderr",
     "output_type": "stream",
     "text": [
      "INFO:tensorflow:Assets written to: ../tf_models\\mod1\\assets\n"
     ]
    },
    {
     "name": "stdout",
     "output_type": "stream",
     "text": [
      "115/115 [==============================] - 1s 5ms/step - loss: 0.1548 - accuracy: 0.9570 - val_loss: 0.0906 - val_accuracy: 0.9764\n",
      "Epoch 63/1000\n",
      "109/115 [===========================>..] - ETA: 0s - loss: 0.1609 - accuracy: 0.9552\n",
      "Epoch 63: saving model to ../tf_models\\mod1\n",
      "INFO:tensorflow:Assets written to: ../tf_models\\mod1\\assets\n"
     ]
    },
    {
     "name": "stderr",
     "output_type": "stream",
     "text": [
      "INFO:tensorflow:Assets written to: ../tf_models\\mod1\\assets\n"
     ]
    },
    {
     "name": "stdout",
     "output_type": "stream",
     "text": [
      "115/115 [==============================] - 1s 5ms/step - loss: 0.1601 - accuracy: 0.9555 - val_loss: 0.0805 - val_accuracy: 0.9791\n",
      "Epoch 64/1000\n",
      "109/115 [===========================>..] - ETA: 0s - loss: 0.1508 - accuracy: 0.9591\n",
      "Epoch 64: saving model to ../tf_models\\mod1\n",
      "INFO:tensorflow:Assets written to: ../tf_models\\mod1\\assets\n"
     ]
    },
    {
     "name": "stderr",
     "output_type": "stream",
     "text": [
      "INFO:tensorflow:Assets written to: ../tf_models\\mod1\\assets\n"
     ]
    },
    {
     "name": "stdout",
     "output_type": "stream",
     "text": [
      "115/115 [==============================] - 1s 5ms/step - loss: 0.1499 - accuracy: 0.9594 - val_loss: 0.0838 - val_accuracy: 0.9780\n",
      "Epoch 65/1000\n",
      "111/115 [===========================>..] - ETA: 0s - loss: 0.1558 - accuracy: 0.9588\n",
      "Epoch 65: saving model to ../tf_models\\mod1\n",
      "INFO:tensorflow:Assets written to: ../tf_models\\mod1\\assets\n"
     ]
    },
    {
     "name": "stderr",
     "output_type": "stream",
     "text": [
      "INFO:tensorflow:Assets written to: ../tf_models\\mod1\\assets\n"
     ]
    },
    {
     "name": "stdout",
     "output_type": "stream",
     "text": [
      "115/115 [==============================] - 1s 6ms/step - loss: 0.1554 - accuracy: 0.9587 - val_loss: 0.0811 - val_accuracy: 0.9778\n",
      "Epoch 66/1000\n",
      "109/115 [===========================>..] - ETA: 0s - loss: 0.1498 - accuracy: 0.9589\n",
      "Epoch 66: saving model to ../tf_models\\mod1\n",
      "INFO:tensorflow:Assets written to: ../tf_models\\mod1\\assets\n"
     ]
    },
    {
     "name": "stderr",
     "output_type": "stream",
     "text": [
      "INFO:tensorflow:Assets written to: ../tf_models\\mod1\\assets\n"
     ]
    },
    {
     "name": "stdout",
     "output_type": "stream",
     "text": [
      "115/115 [==============================] - 1s 6ms/step - loss: 0.1514 - accuracy: 0.9585 - val_loss: 0.0833 - val_accuracy: 0.9778\n",
      "Epoch 67/1000\n",
      "109/115 [===========================>..] - ETA: 0s - loss: 0.1575 - accuracy: 0.9557\n",
      "Epoch 67: saving model to ../tf_models\\mod1\n",
      "INFO:tensorflow:Assets written to: ../tf_models\\mod1\\assets\n"
     ]
    },
    {
     "name": "stderr",
     "output_type": "stream",
     "text": [
      "INFO:tensorflow:Assets written to: ../tf_models\\mod1\\assets\n"
     ]
    },
    {
     "name": "stdout",
     "output_type": "stream",
     "text": [
      "115/115 [==============================] - 1s 7ms/step - loss: 0.1572 - accuracy: 0.9559 - val_loss: 0.0822 - val_accuracy: 0.9784\n",
      "Epoch 68/1000\n",
      "107/115 [==========================>...] - ETA: 0s - loss: 0.1569 - accuracy: 0.9543\n",
      "Epoch 68: saving model to ../tf_models\\mod1\n",
      "INFO:tensorflow:Assets written to: ../tf_models\\mod1\\assets\n"
     ]
    },
    {
     "name": "stderr",
     "output_type": "stream",
     "text": [
      "INFO:tensorflow:Assets written to: ../tf_models\\mod1\\assets\n"
     ]
    },
    {
     "name": "stdout",
     "output_type": "stream",
     "text": [
      "115/115 [==============================] - 1s 5ms/step - loss: 0.1549 - accuracy: 0.9545 - val_loss: 0.0917 - val_accuracy: 0.9763\n",
      "Epoch 69/1000\n",
      "110/115 [===========================>..] - ETA: 0s - loss: 0.1489 - accuracy: 0.9575\n",
      "Epoch 69: saving model to ../tf_models\\mod1\n",
      "INFO:tensorflow:Assets written to: ../tf_models\\mod1\\assets\n"
     ]
    },
    {
     "name": "stderr",
     "output_type": "stream",
     "text": [
      "INFO:tensorflow:Assets written to: ../tf_models\\mod1\\assets\n"
     ]
    },
    {
     "name": "stdout",
     "output_type": "stream",
     "text": [
      "115/115 [==============================] - 1s 5ms/step - loss: 0.1477 - accuracy: 0.9575 - val_loss: 0.0765 - val_accuracy: 0.9791\n",
      "Epoch 70/1000\n",
      "109/115 [===========================>..] - ETA: 0s - loss: 0.1478 - accuracy: 0.9586\n",
      "Epoch 70: saving model to ../tf_models\\mod1\n",
      "INFO:tensorflow:Assets written to: ../tf_models\\mod1\\assets\n"
     ]
    },
    {
     "name": "stderr",
     "output_type": "stream",
     "text": [
      "INFO:tensorflow:Assets written to: ../tf_models\\mod1\\assets\n"
     ]
    },
    {
     "name": "stdout",
     "output_type": "stream",
     "text": [
      "115/115 [==============================] - 1s 6ms/step - loss: 0.1464 - accuracy: 0.9589 - val_loss: 0.0778 - val_accuracy: 0.9794\n",
      "Epoch 71/1000\n",
      "108/115 [===========================>..] - ETA: 0s - loss: 0.1384 - accuracy: 0.9622\n",
      "Epoch 71: saving model to ../tf_models\\mod1\n",
      "INFO:tensorflow:Assets written to: ../tf_models\\mod1\\assets\n"
     ]
    },
    {
     "name": "stderr",
     "output_type": "stream",
     "text": [
      "INFO:tensorflow:Assets written to: ../tf_models\\mod1\\assets\n"
     ]
    },
    {
     "name": "stdout",
     "output_type": "stream",
     "text": [
      "115/115 [==============================] - 1s 6ms/step - loss: 0.1421 - accuracy: 0.9612 - val_loss: 0.0844 - val_accuracy: 0.9767\n",
      "Epoch 72/1000\n",
      "106/115 [==========================>...] - ETA: 0s - loss: 0.1480 - accuracy: 0.9588\n",
      "Epoch 72: saving model to ../tf_models\\mod1\n",
      "INFO:tensorflow:Assets written to: ../tf_models\\mod1\\assets\n"
     ]
    },
    {
     "name": "stderr",
     "output_type": "stream",
     "text": [
      "INFO:tensorflow:Assets written to: ../tf_models\\mod1\\assets\n"
     ]
    },
    {
     "name": "stdout",
     "output_type": "stream",
     "text": [
      "115/115 [==============================] - 1s 6ms/step - loss: 0.1471 - accuracy: 0.9588 - val_loss: 0.0808 - val_accuracy: 0.9785\n",
      "Epoch 73/1000\n",
      "106/115 [==========================>...] - ETA: 0s - loss: 0.1408 - accuracy: 0.9610\n",
      "Epoch 73: saving model to ../tf_models\\mod1\n",
      "INFO:tensorflow:Assets written to: ../tf_models\\mod1\\assets\n"
     ]
    },
    {
     "name": "stderr",
     "output_type": "stream",
     "text": [
      "INFO:tensorflow:Assets written to: ../tf_models\\mod1\\assets\n"
     ]
    },
    {
     "name": "stdout",
     "output_type": "stream",
     "text": [
      "115/115 [==============================] - 1s 6ms/step - loss: 0.1418 - accuracy: 0.9608 - val_loss: 0.0822 - val_accuracy: 0.9774\n",
      "Epoch 74/1000\n",
      "104/115 [==========================>...] - ETA: 0s - loss: 0.1469 - accuracy: 0.9588\n",
      "Epoch 74: saving model to ../tf_models\\mod1\n",
      "INFO:tensorflow:Assets written to: ../tf_models\\mod1\\assets\n"
     ]
    },
    {
     "name": "stderr",
     "output_type": "stream",
     "text": [
      "INFO:tensorflow:Assets written to: ../tf_models\\mod1\\assets\n"
     ]
    },
    {
     "name": "stdout",
     "output_type": "stream",
     "text": [
      "115/115 [==============================] - 1s 6ms/step - loss: 0.1485 - accuracy: 0.9588 - val_loss: 0.0825 - val_accuracy: 0.9768\n",
      "Epoch 75/1000\n",
      "108/115 [===========================>..] - ETA: 0s - loss: 0.1394 - accuracy: 0.9594\n",
      "Epoch 75: saving model to ../tf_models\\mod1\n",
      "INFO:tensorflow:Assets written to: ../tf_models\\mod1\\assets\n"
     ]
    },
    {
     "name": "stderr",
     "output_type": "stream",
     "text": [
      "INFO:tensorflow:Assets written to: ../tf_models\\mod1\\assets\n"
     ]
    },
    {
     "name": "stdout",
     "output_type": "stream",
     "text": [
      "115/115 [==============================] - 1s 6ms/step - loss: 0.1381 - accuracy: 0.9598 - val_loss: 0.0803 - val_accuracy: 0.9794\n",
      "Epoch 76/1000\n",
      "103/115 [=========================>....] - ETA: 0s - loss: 0.1496 - accuracy: 0.9574\n",
      "Epoch 76: saving model to ../tf_models\\mod1\n",
      "INFO:tensorflow:Assets written to: ../tf_models\\mod1\\assets\n"
     ]
    },
    {
     "name": "stderr",
     "output_type": "stream",
     "text": [
      "INFO:tensorflow:Assets written to: ../tf_models\\mod1\\assets\n"
     ]
    },
    {
     "name": "stdout",
     "output_type": "stream",
     "text": [
      "115/115 [==============================] - 1s 7ms/step - loss: 0.1487 - accuracy: 0.9581 - val_loss: 0.0766 - val_accuracy: 0.9797\n",
      "Epoch 77/1000\n",
      "108/115 [===========================>..] - ETA: 0s - loss: 0.1421 - accuracy: 0.9602\n",
      "Epoch 77: saving model to ../tf_models\\mod1\n",
      "INFO:tensorflow:Assets written to: ../tf_models\\mod1\\assets\n"
     ]
    },
    {
     "name": "stderr",
     "output_type": "stream",
     "text": [
      "INFO:tensorflow:Assets written to: ../tf_models\\mod1\\assets\n"
     ]
    },
    {
     "name": "stdout",
     "output_type": "stream",
     "text": [
      "115/115 [==============================] - 1s 5ms/step - loss: 0.1420 - accuracy: 0.9605 - val_loss: 0.0855 - val_accuracy: 0.9770\n",
      "Epoch 78/1000\n",
      "109/115 [===========================>..] - ETA: 0s - loss: 0.1402 - accuracy: 0.9605\n",
      "Epoch 78: saving model to ../tf_models\\mod1\n",
      "INFO:tensorflow:Assets written to: ../tf_models\\mod1\\assets\n"
     ]
    },
    {
     "name": "stderr",
     "output_type": "stream",
     "text": [
      "INFO:tensorflow:Assets written to: ../tf_models\\mod1\\assets\n"
     ]
    },
    {
     "name": "stdout",
     "output_type": "stream",
     "text": [
      "115/115 [==============================] - 1s 5ms/step - loss: 0.1385 - accuracy: 0.9609 - val_loss: 0.0764 - val_accuracy: 0.9800\n",
      "Epoch 79/1000\n",
      "109/115 [===========================>..] - ETA: 0s - loss: 0.1400 - accuracy: 0.9619\n",
      "Epoch 79: saving model to ../tf_models\\mod1\n",
      "INFO:tensorflow:Assets written to: ../tf_models\\mod1\\assets\n"
     ]
    },
    {
     "name": "stderr",
     "output_type": "stream",
     "text": [
      "INFO:tensorflow:Assets written to: ../tf_models\\mod1\\assets\n"
     ]
    },
    {
     "name": "stdout",
     "output_type": "stream",
     "text": [
      "115/115 [==============================] - 1s 5ms/step - loss: 0.1392 - accuracy: 0.9619 - val_loss: 0.0767 - val_accuracy: 0.9796\n",
      "Epoch 80/1000\n",
      "111/115 [===========================>..] - ETA: 0s - loss: 0.1353 - accuracy: 0.9619\n",
      "Epoch 80: saving model to ../tf_models\\mod1\n",
      "INFO:tensorflow:Assets written to: ../tf_models\\mod1\\assets\n"
     ]
    },
    {
     "name": "stderr",
     "output_type": "stream",
     "text": [
      "INFO:tensorflow:Assets written to: ../tf_models\\mod1\\assets\n"
     ]
    },
    {
     "name": "stdout",
     "output_type": "stream",
     "text": [
      "115/115 [==============================] - 1s 6ms/step - loss: 0.1354 - accuracy: 0.9618 - val_loss: 0.0742 - val_accuracy: 0.9815\n",
      "Epoch 81/1000\n",
      "108/115 [===========================>..] - ETA: 0s - loss: 0.1404 - accuracy: 0.9620\n",
      "Epoch 81: saving model to ../tf_models\\mod1\n",
      "INFO:tensorflow:Assets written to: ../tf_models\\mod1\\assets\n"
     ]
    },
    {
     "name": "stderr",
     "output_type": "stream",
     "text": [
      "INFO:tensorflow:Assets written to: ../tf_models\\mod1\\assets\n"
     ]
    },
    {
     "name": "stdout",
     "output_type": "stream",
     "text": [
      "115/115 [==============================] - 1s 6ms/step - loss: 0.1395 - accuracy: 0.9619 - val_loss: 0.0779 - val_accuracy: 0.9796\n",
      "Epoch 82/1000\n",
      "110/115 [===========================>..] - ETA: 0s - loss: 0.1333 - accuracy: 0.9624\n",
      "Epoch 82: saving model to ../tf_models\\mod1\n",
      "INFO:tensorflow:Assets written to: ../tf_models\\mod1\\assets\n"
     ]
    },
    {
     "name": "stderr",
     "output_type": "stream",
     "text": [
      "INFO:tensorflow:Assets written to: ../tf_models\\mod1\\assets\n"
     ]
    },
    {
     "name": "stdout",
     "output_type": "stream",
     "text": [
      "115/115 [==============================] - 1s 5ms/step - loss: 0.1355 - accuracy: 0.9613 - val_loss: 0.0743 - val_accuracy: 0.9793\n",
      "Epoch 83/1000\n",
      "108/115 [===========================>..] - ETA: 0s - loss: 0.1349 - accuracy: 0.9628\n",
      "Epoch 83: saving model to ../tf_models\\mod1\n",
      "INFO:tensorflow:Assets written to: ../tf_models\\mod1\\assets\n"
     ]
    },
    {
     "name": "stderr",
     "output_type": "stream",
     "text": [
      "INFO:tensorflow:Assets written to: ../tf_models\\mod1\\assets\n"
     ]
    },
    {
     "name": "stdout",
     "output_type": "stream",
     "text": [
      "115/115 [==============================] - 1s 5ms/step - loss: 0.1349 - accuracy: 0.9631 - val_loss: 0.0753 - val_accuracy: 0.9808\n",
      "Epoch 84/1000\n",
      "112/115 [============================>.] - ETA: 0s - loss: 0.1414 - accuracy: 0.9613\n",
      "Epoch 84: saving model to ../tf_models\\mod1\n",
      "INFO:tensorflow:Assets written to: ../tf_models\\mod1\\assets\n"
     ]
    },
    {
     "name": "stderr",
     "output_type": "stream",
     "text": [
      "INFO:tensorflow:Assets written to: ../tf_models\\mod1\\assets\n"
     ]
    },
    {
     "name": "stdout",
     "output_type": "stream",
     "text": [
      "115/115 [==============================] - 1s 7ms/step - loss: 0.1407 - accuracy: 0.9615 - val_loss: 0.0836 - val_accuracy: 0.9782\n",
      "Epoch 85/1000\n",
      "112/115 [============================>.] - ETA: 0s - loss: 0.1254 - accuracy: 0.9647\n",
      "Epoch 85: saving model to ../tf_models\\mod1\n",
      "INFO:tensorflow:Assets written to: ../tf_models\\mod1\\assets\n"
     ]
    },
    {
     "name": "stderr",
     "output_type": "stream",
     "text": [
      "INFO:tensorflow:Assets written to: ../tf_models\\mod1\\assets\n"
     ]
    },
    {
     "name": "stdout",
     "output_type": "stream",
     "text": [
      "115/115 [==============================] - 1s 5ms/step - loss: 0.1255 - accuracy: 0.9648 - val_loss: 0.0852 - val_accuracy: 0.9773\n",
      "Epoch 86/1000\n",
      "109/115 [===========================>..] - ETA: 0s - loss: 0.1361 - accuracy: 0.9627\n",
      "Epoch 86: saving model to ../tf_models\\mod1\n",
      "INFO:tensorflow:Assets written to: ../tf_models\\mod1\\assets\n"
     ]
    },
    {
     "name": "stderr",
     "output_type": "stream",
     "text": [
      "INFO:tensorflow:Assets written to: ../tf_models\\mod1\\assets\n"
     ]
    },
    {
     "name": "stdout",
     "output_type": "stream",
     "text": [
      "115/115 [==============================] - 1s 5ms/step - loss: 0.1354 - accuracy: 0.9627 - val_loss: 0.0710 - val_accuracy: 0.9817\n",
      "Epoch 87/1000\n",
      "107/115 [==========================>...] - ETA: 0s - loss: 0.1317 - accuracy: 0.9645\n",
      "Epoch 87: saving model to ../tf_models\\mod1\n",
      "INFO:tensorflow:Assets written to: ../tf_models\\mod1\\assets\n"
     ]
    },
    {
     "name": "stderr",
     "output_type": "stream",
     "text": [
      "INFO:tensorflow:Assets written to: ../tf_models\\mod1\\assets\n"
     ]
    },
    {
     "name": "stdout",
     "output_type": "stream",
     "text": [
      "115/115 [==============================] - 1s 6ms/step - loss: 0.1303 - accuracy: 0.9653 - val_loss: 0.0786 - val_accuracy: 0.9794\n",
      "Epoch 88/1000\n",
      "106/115 [==========================>...] - ETA: 0s - loss: 0.1374 - accuracy: 0.9609\n",
      "Epoch 88: saving model to ../tf_models\\mod1\n",
      "INFO:tensorflow:Assets written to: ../tf_models\\mod1\\assets\n"
     ]
    },
    {
     "name": "stderr",
     "output_type": "stream",
     "text": [
      "INFO:tensorflow:Assets written to: ../tf_models\\mod1\\assets\n"
     ]
    },
    {
     "name": "stdout",
     "output_type": "stream",
     "text": [
      "115/115 [==============================] - 1s 6ms/step - loss: 0.1367 - accuracy: 0.9611 - val_loss: 0.0733 - val_accuracy: 0.9801\n",
      "Epoch 89/1000\n",
      "102/115 [=========================>....] - ETA: 0s - loss: 0.1365 - accuracy: 0.9635\n",
      "Epoch 89: saving model to ../tf_models\\mod1\n",
      "INFO:tensorflow:Assets written to: ../tf_models\\mod1\\assets\n"
     ]
    },
    {
     "name": "stderr",
     "output_type": "stream",
     "text": [
      "INFO:tensorflow:Assets written to: ../tf_models\\mod1\\assets\n"
     ]
    },
    {
     "name": "stdout",
     "output_type": "stream",
     "text": [
      "115/115 [==============================] - 1s 6ms/step - loss: 0.1348 - accuracy: 0.9635 - val_loss: 0.0777 - val_accuracy: 0.9792\n",
      "Epoch 90/1000\n",
      "106/115 [==========================>...] - ETA: 0s - loss: 0.1525 - accuracy: 0.9536\n",
      "Epoch 90: saving model to ../tf_models\\mod1\n",
      "INFO:tensorflow:Assets written to: ../tf_models\\mod1\\assets\n"
     ]
    },
    {
     "name": "stderr",
     "output_type": "stream",
     "text": [
      "INFO:tensorflow:Assets written to: ../tf_models\\mod1\\assets\n"
     ]
    },
    {
     "name": "stdout",
     "output_type": "stream",
     "text": [
      "115/115 [==============================] - 1s 5ms/step - loss: 0.1541 - accuracy: 0.9533 - val_loss: 0.0781 - val_accuracy: 0.9801\n",
      "Epoch 91/1000\n",
      "108/115 [===========================>..] - ETA: 0s - loss: 0.1353 - accuracy: 0.9609\n",
      "Epoch 91: saving model to ../tf_models\\mod1\n",
      "INFO:tensorflow:Assets written to: ../tf_models\\mod1\\assets\n"
     ]
    },
    {
     "name": "stderr",
     "output_type": "stream",
     "text": [
      "INFO:tensorflow:Assets written to: ../tf_models\\mod1\\assets\n"
     ]
    },
    {
     "name": "stdout",
     "output_type": "stream",
     "text": [
      "115/115 [==============================] - 1s 5ms/step - loss: 0.1362 - accuracy: 0.9603 - val_loss: 0.0768 - val_accuracy: 0.9788\n",
      "Epoch 92/1000\n",
      "109/115 [===========================>..] - ETA: 0s - loss: 0.1333 - accuracy: 0.9612\n",
      "Epoch 92: saving model to ../tf_models\\mod1\n",
      "INFO:tensorflow:Assets written to: ../tf_models\\mod1\\assets\n"
     ]
    },
    {
     "name": "stderr",
     "output_type": "stream",
     "text": [
      "INFO:tensorflow:Assets written to: ../tf_models\\mod1\\assets\n"
     ]
    },
    {
     "name": "stdout",
     "output_type": "stream",
     "text": [
      "115/115 [==============================] - 1s 5ms/step - loss: 0.1329 - accuracy: 0.9616 - val_loss: 0.0957 - val_accuracy: 0.9744\n",
      "Epoch 93/1000\n",
      "107/115 [==========================>...] - ETA: 0s - loss: 0.1432 - accuracy: 0.9615\n",
      "Epoch 93: saving model to ../tf_models\\mod1\n",
      "INFO:tensorflow:Assets written to: ../tf_models\\mod1\\assets\n"
     ]
    },
    {
     "name": "stderr",
     "output_type": "stream",
     "text": [
      "INFO:tensorflow:Assets written to: ../tf_models\\mod1\\assets\n"
     ]
    },
    {
     "name": "stdout",
     "output_type": "stream",
     "text": [
      "115/115 [==============================] - 1s 7ms/step - loss: 0.1412 - accuracy: 0.9623 - val_loss: 0.0749 - val_accuracy: 0.9791\n",
      "Epoch 94/1000\n",
      "110/115 [===========================>..] - ETA: 0s - loss: 0.1394 - accuracy: 0.9587\n",
      "Epoch 94: saving model to ../tf_models\\mod1\n",
      "INFO:tensorflow:Assets written to: ../tf_models\\mod1\\assets\n"
     ]
    },
    {
     "name": "stderr",
     "output_type": "stream",
     "text": [
      "INFO:tensorflow:Assets written to: ../tf_models\\mod1\\assets\n"
     ]
    },
    {
     "name": "stdout",
     "output_type": "stream",
     "text": [
      "115/115 [==============================] - 1s 6ms/step - loss: 0.1386 - accuracy: 0.9591 - val_loss: 0.0716 - val_accuracy: 0.9819\n",
      "Epoch 95/1000\n",
      "110/115 [===========================>..] - ETA: 0s - loss: 0.1395 - accuracy: 0.9588\n",
      "Epoch 95: saving model to ../tf_models\\mod1\n",
      "INFO:tensorflow:Assets written to: ../tf_models\\mod1\\assets\n"
     ]
    },
    {
     "name": "stderr",
     "output_type": "stream",
     "text": [
      "INFO:tensorflow:Assets written to: ../tf_models\\mod1\\assets\n"
     ]
    },
    {
     "name": "stdout",
     "output_type": "stream",
     "text": [
      "115/115 [==============================] - 1s 6ms/step - loss: 0.1386 - accuracy: 0.9592 - val_loss: 0.0770 - val_accuracy: 0.9802\n",
      "Epoch 96/1000\n",
      "109/115 [===========================>..] - ETA: 0s - loss: 0.1231 - accuracy: 0.9662\n",
      "Epoch 96: saving model to ../tf_models\\mod1\n",
      "INFO:tensorflow:Assets written to: ../tf_models\\mod1\\assets\n"
     ]
    },
    {
     "name": "stderr",
     "output_type": "stream",
     "text": [
      "INFO:tensorflow:Assets written to: ../tf_models\\mod1\\assets\n"
     ]
    },
    {
     "name": "stdout",
     "output_type": "stream",
     "text": [
      "115/115 [==============================] - 1s 6ms/step - loss: 0.1239 - accuracy: 0.9656 - val_loss: 0.0716 - val_accuracy: 0.9808\n",
      "Epoch 97/1000\n",
      "108/115 [===========================>..] - ETA: 0s - loss: 0.1269 - accuracy: 0.9633\n",
      "Epoch 97: saving model to ../tf_models\\mod1\n",
      "INFO:tensorflow:Assets written to: ../tf_models\\mod1\\assets\n"
     ]
    },
    {
     "name": "stderr",
     "output_type": "stream",
     "text": [
      "INFO:tensorflow:Assets written to: ../tf_models\\mod1\\assets\n"
     ]
    },
    {
     "name": "stdout",
     "output_type": "stream",
     "text": [
      "115/115 [==============================] - 1s 6ms/step - loss: 0.1261 - accuracy: 0.9634 - val_loss: 0.0727 - val_accuracy: 0.9806\n",
      "Epoch 98/1000\n",
      "105/115 [==========================>...] - ETA: 0s - loss: 0.1336 - accuracy: 0.9622\n",
      "Epoch 98: saving model to ../tf_models\\mod1\n",
      "INFO:tensorflow:Assets written to: ../tf_models\\mod1\\assets\n"
     ]
    },
    {
     "name": "stderr",
     "output_type": "stream",
     "text": [
      "INFO:tensorflow:Assets written to: ../tf_models\\mod1\\assets\n"
     ]
    },
    {
     "name": "stdout",
     "output_type": "stream",
     "text": [
      "115/115 [==============================] - 1s 5ms/step - loss: 0.1317 - accuracy: 0.9631 - val_loss: 0.0734 - val_accuracy: 0.9801\n",
      "Epoch 99/1000\n",
      "112/115 [============================>.] - ETA: 0s - loss: 0.1410 - accuracy: 0.9610\n",
      "Epoch 99: saving model to ../tf_models\\mod1\n",
      "INFO:tensorflow:Assets written to: ../tf_models\\mod1\\assets\n"
     ]
    },
    {
     "name": "stderr",
     "output_type": "stream",
     "text": [
      "INFO:tensorflow:Assets written to: ../tf_models\\mod1\\assets\n"
     ]
    },
    {
     "name": "stdout",
     "output_type": "stream",
     "text": [
      "115/115 [==============================] - 1s 5ms/step - loss: 0.1406 - accuracy: 0.9611 - val_loss: 0.0715 - val_accuracy: 0.9813\n",
      "Epoch 100/1000\n",
      "111/115 [===========================>..] - ETA: 0s - loss: 0.1317 - accuracy: 0.9609\n",
      "Epoch 100: saving model to ../tf_models\\mod1\n",
      "INFO:tensorflow:Assets written to: ../tf_models\\mod1\\assets\n"
     ]
    },
    {
     "name": "stderr",
     "output_type": "stream",
     "text": [
      "INFO:tensorflow:Assets written to: ../tf_models\\mod1\\assets\n"
     ]
    },
    {
     "name": "stdout",
     "output_type": "stream",
     "text": [
      "115/115 [==============================] - 1s 7ms/step - loss: 0.1310 - accuracy: 0.9610 - val_loss: 0.0692 - val_accuracy: 0.9812\n",
      "Epoch 101/1000\n",
      "108/115 [===========================>..] - ETA: 0s - loss: 0.1267 - accuracy: 0.9640\n",
      "Epoch 101: saving model to ../tf_models\\mod1\n",
      "INFO:tensorflow:Assets written to: ../tf_models\\mod1\\assets\n"
     ]
    },
    {
     "name": "stderr",
     "output_type": "stream",
     "text": [
      "INFO:tensorflow:Assets written to: ../tf_models\\mod1\\assets\n"
     ]
    },
    {
     "name": "stdout",
     "output_type": "stream",
     "text": [
      "115/115 [==============================] - 1s 5ms/step - loss: 0.1275 - accuracy: 0.9637 - val_loss: 0.0686 - val_accuracy: 0.9819\n",
      "Epoch 102/1000\n",
      "109/115 [===========================>..] - ETA: 0s - loss: 0.1321 - accuracy: 0.9624\n",
      "Epoch 102: saving model to ../tf_models\\mod1\n",
      "INFO:tensorflow:Assets written to: ../tf_models\\mod1\\assets\n"
     ]
    },
    {
     "name": "stderr",
     "output_type": "stream",
     "text": [
      "INFO:tensorflow:Assets written to: ../tf_models\\mod1\\assets\n"
     ]
    },
    {
     "name": "stdout",
     "output_type": "stream",
     "text": [
      "115/115 [==============================] - 1s 5ms/step - loss: 0.1314 - accuracy: 0.9629 - val_loss: 0.0961 - val_accuracy: 0.9721\n",
      "Epoch 103/1000\n",
      "106/115 [==========================>...] - ETA: 0s - loss: 0.1273 - accuracy: 0.9640\n",
      "Epoch 103: saving model to ../tf_models\\mod1\n",
      "INFO:tensorflow:Assets written to: ../tf_models\\mod1\\assets\n"
     ]
    },
    {
     "name": "stderr",
     "output_type": "stream",
     "text": [
      "INFO:tensorflow:Assets written to: ../tf_models\\mod1\\assets\n"
     ]
    },
    {
     "name": "stdout",
     "output_type": "stream",
     "text": [
      "115/115 [==============================] - 1s 6ms/step - loss: 0.1262 - accuracy: 0.9642 - val_loss: 0.0708 - val_accuracy: 0.9812\n",
      "Epoch 104/1000\n",
      " 97/115 [========================>.....] - ETA: 0s - loss: 0.1299 - accuracy: 0.9646\n",
      "Epoch 104: saving model to ../tf_models\\mod1\n",
      "INFO:tensorflow:Assets written to: ../tf_models\\mod1\\assets\n"
     ]
    },
    {
     "name": "stderr",
     "output_type": "stream",
     "text": [
      "INFO:tensorflow:Assets written to: ../tf_models\\mod1\\assets\n"
     ]
    },
    {
     "name": "stdout",
     "output_type": "stream",
     "text": [
      "115/115 [==============================] - 1s 6ms/step - loss: 0.1286 - accuracy: 0.9654 - val_loss: 0.0715 - val_accuracy: 0.9817\n",
      "Epoch 105/1000\n",
      "108/115 [===========================>..] - ETA: 0s - loss: 0.1251 - accuracy: 0.9653\n",
      "Epoch 105: saving model to ../tf_models\\mod1\n",
      "INFO:tensorflow:Assets written to: ../tf_models\\mod1\\assets\n"
     ]
    },
    {
     "name": "stderr",
     "output_type": "stream",
     "text": [
      "INFO:tensorflow:Assets written to: ../tf_models\\mod1\\assets\n"
     ]
    },
    {
     "name": "stdout",
     "output_type": "stream",
     "text": [
      "115/115 [==============================] - 1s 6ms/step - loss: 0.1247 - accuracy: 0.9649 - val_loss: 0.0682 - val_accuracy: 0.9816\n",
      "Epoch 106/1000\n",
      "109/115 [===========================>..] - ETA: 0s - loss: 0.1277 - accuracy: 0.9634\n",
      "Epoch 106: saving model to ../tf_models\\mod1\n",
      "INFO:tensorflow:Assets written to: ../tf_models\\mod1\\assets\n"
     ]
    },
    {
     "name": "stderr",
     "output_type": "stream",
     "text": [
      "INFO:tensorflow:Assets written to: ../tf_models\\mod1\\assets\n"
     ]
    },
    {
     "name": "stdout",
     "output_type": "stream",
     "text": [
      "115/115 [==============================] - 1s 5ms/step - loss: 0.1280 - accuracy: 0.9633 - val_loss: 0.0744 - val_accuracy: 0.9802\n",
      "Epoch 107/1000\n",
      "111/115 [===========================>..] - ETA: 0s - loss: 0.1194 - accuracy: 0.9669\n",
      "Epoch 107: saving model to ../tf_models\\mod1\n",
      "INFO:tensorflow:Assets written to: ../tf_models\\mod1\\assets\n"
     ]
    },
    {
     "name": "stderr",
     "output_type": "stream",
     "text": [
      "INFO:tensorflow:Assets written to: ../tf_models\\mod1\\assets\n"
     ]
    },
    {
     "name": "stdout",
     "output_type": "stream",
     "text": [
      "115/115 [==============================] - 1s 5ms/step - loss: 0.1194 - accuracy: 0.9668 - val_loss: 0.0757 - val_accuracy: 0.9796\n",
      "Epoch 108/1000\n",
      "111/115 [===========================>..] - ETA: 0s - loss: 0.1221 - accuracy: 0.9667\n",
      "Epoch 108: saving model to ../tf_models\\mod1\n",
      "INFO:tensorflow:Assets written to: ../tf_models\\mod1\\assets\n"
     ]
    },
    {
     "name": "stderr",
     "output_type": "stream",
     "text": [
      "INFO:tensorflow:Assets written to: ../tf_models\\mod1\\assets\n"
     ]
    },
    {
     "name": "stdout",
     "output_type": "stream",
     "text": [
      "115/115 [==============================] - 1s 7ms/step - loss: 0.1230 - accuracy: 0.9663 - val_loss: 0.0691 - val_accuracy: 0.9815\n",
      "Epoch 109/1000\n",
      "110/115 [===========================>..] - ETA: 0s - loss: 0.1288 - accuracy: 0.9649\n",
      "Epoch 109: saving model to ../tf_models\\mod1\n",
      "INFO:tensorflow:Assets written to: ../tf_models\\mod1\\assets\n"
     ]
    },
    {
     "name": "stderr",
     "output_type": "stream",
     "text": [
      "INFO:tensorflow:Assets written to: ../tf_models\\mod1\\assets\n"
     ]
    },
    {
     "name": "stdout",
     "output_type": "stream",
     "text": [
      "115/115 [==============================] - 1s 5ms/step - loss: 0.1290 - accuracy: 0.9646 - val_loss: 0.0714 - val_accuracy: 0.9814\n",
      "Epoch 110/1000\n",
      "110/115 [===========================>..] - ETA: 0s - loss: 0.1251 - accuracy: 0.9639\n",
      "Epoch 110: saving model to ../tf_models\\mod1\n",
      "INFO:tensorflow:Assets written to: ../tf_models\\mod1\\assets\n"
     ]
    },
    {
     "name": "stderr",
     "output_type": "stream",
     "text": [
      "INFO:tensorflow:Assets written to: ../tf_models\\mod1\\assets\n"
     ]
    },
    {
     "name": "stdout",
     "output_type": "stream",
     "text": [
      "115/115 [==============================] - 1s 6ms/step - loss: 0.1257 - accuracy: 0.9634 - val_loss: 0.0719 - val_accuracy: 0.9814\n",
      "Epoch 111/1000\n",
      "109/115 [===========================>..] - ETA: 0s - loss: 0.1259 - accuracy: 0.9638\n",
      "Epoch 111: saving model to ../tf_models\\mod1\n",
      "INFO:tensorflow:Assets written to: ../tf_models\\mod1\\assets\n"
     ]
    },
    {
     "name": "stderr",
     "output_type": "stream",
     "text": [
      "INFO:tensorflow:Assets written to: ../tf_models\\mod1\\assets\n"
     ]
    },
    {
     "name": "stdout",
     "output_type": "stream",
     "text": [
      "115/115 [==============================] - 1s 5ms/step - loss: 0.1249 - accuracy: 0.9640 - val_loss: 0.0667 - val_accuracy: 0.9822\n",
      "Epoch 112/1000\n",
      "109/115 [===========================>..] - ETA: 0s - loss: 0.1217 - accuracy: 0.9657\n",
      "Epoch 112: saving model to ../tf_models\\mod1\n",
      "INFO:tensorflow:Assets written to: ../tf_models\\mod1\\assets\n"
     ]
    },
    {
     "name": "stderr",
     "output_type": "stream",
     "text": [
      "INFO:tensorflow:Assets written to: ../tf_models\\mod1\\assets\n"
     ]
    },
    {
     "name": "stdout",
     "output_type": "stream",
     "text": [
      "115/115 [==============================] - 1s 5ms/step - loss: 0.1221 - accuracy: 0.9656 - val_loss: 0.0859 - val_accuracy: 0.9781\n",
      "Epoch 113/1000\n",
      "110/115 [===========================>..] - ETA: 0s - loss: 0.1286 - accuracy: 0.9625\n",
      "Epoch 113: saving model to ../tf_models\\mod1\n",
      "INFO:tensorflow:Assets written to: ../tf_models\\mod1\\assets\n"
     ]
    },
    {
     "name": "stderr",
     "output_type": "stream",
     "text": [
      "INFO:tensorflow:Assets written to: ../tf_models\\mod1\\assets\n"
     ]
    },
    {
     "name": "stdout",
     "output_type": "stream",
     "text": [
      "115/115 [==============================] - 1s 5ms/step - loss: 0.1295 - accuracy: 0.9619 - val_loss: 0.0692 - val_accuracy: 0.9813\n",
      "Epoch 114/1000\n",
      "110/115 [===========================>..] - ETA: 0s - loss: 0.1135 - accuracy: 0.9655\n",
      "Epoch 114: saving model to ../tf_models\\mod1\n",
      "INFO:tensorflow:Assets written to: ../tf_models\\mod1\\assets\n"
     ]
    },
    {
     "name": "stderr",
     "output_type": "stream",
     "text": [
      "INFO:tensorflow:Assets written to: ../tf_models\\mod1\\assets\n"
     ]
    },
    {
     "name": "stdout",
     "output_type": "stream",
     "text": [
      "115/115 [==============================] - 1s 5ms/step - loss: 0.1151 - accuracy: 0.9653 - val_loss: 0.0713 - val_accuracy: 0.9810\n",
      "Epoch 115/1000\n",
      "110/115 [===========================>..] - ETA: 0s - loss: 0.1344 - accuracy: 0.9622\n",
      "Epoch 115: saving model to ../tf_models\\mod1\n",
      "INFO:tensorflow:Assets written to: ../tf_models\\mod1\\assets\n"
     ]
    },
    {
     "name": "stderr",
     "output_type": "stream",
     "text": [
      "INFO:tensorflow:Assets written to: ../tf_models\\mod1\\assets\n"
     ]
    },
    {
     "name": "stdout",
     "output_type": "stream",
     "text": [
      "115/115 [==============================] - 1s 5ms/step - loss: 0.1342 - accuracy: 0.9622 - val_loss: 0.0682 - val_accuracy: 0.9829\n",
      "Epoch 116/1000\n",
      "112/115 [============================>.] - ETA: 0s - loss: 0.1258 - accuracy: 0.9644\n",
      "Epoch 116: saving model to ../tf_models\\mod1\n",
      "INFO:tensorflow:Assets written to: ../tf_models\\mod1\\assets\n"
     ]
    },
    {
     "name": "stderr",
     "output_type": "stream",
     "text": [
      "INFO:tensorflow:Assets written to: ../tf_models\\mod1\\assets\n"
     ]
    },
    {
     "name": "stdout",
     "output_type": "stream",
     "text": [
      "115/115 [==============================] - 1s 5ms/step - loss: 0.1261 - accuracy: 0.9642 - val_loss: 0.0691 - val_accuracy: 0.9826\n",
      "Epoch 117/1000\n",
      "105/115 [==========================>...] - ETA: 0s - loss: 0.1277 - accuracy: 0.9624\n",
      "Epoch 117: saving model to ../tf_models\\mod1\n",
      "INFO:tensorflow:Assets written to: ../tf_models\\mod1\\assets\n"
     ]
    },
    {
     "name": "stderr",
     "output_type": "stream",
     "text": [
      "INFO:tensorflow:Assets written to: ../tf_models\\mod1\\assets\n"
     ]
    },
    {
     "name": "stdout",
     "output_type": "stream",
     "text": [
      "115/115 [==============================] - 1s 7ms/step - loss: 0.1270 - accuracy: 0.9624 - val_loss: 0.0728 - val_accuracy: 0.9811\n",
      "Epoch 118/1000\n",
      "110/115 [===========================>..] - ETA: 0s - loss: 0.1276 - accuracy: 0.9629\n",
      "Epoch 118: saving model to ../tf_models\\mod1\n",
      "INFO:tensorflow:Assets written to: ../tf_models\\mod1\\assets\n"
     ]
    },
    {
     "name": "stderr",
     "output_type": "stream",
     "text": [
      "INFO:tensorflow:Assets written to: ../tf_models\\mod1\\assets\n"
     ]
    },
    {
     "name": "stdout",
     "output_type": "stream",
     "text": [
      "115/115 [==============================] - 1s 5ms/step - loss: 0.1263 - accuracy: 0.9633 - val_loss: 0.0728 - val_accuracy: 0.9787\n",
      "Epoch 119/1000\n",
      "106/115 [==========================>...] - ETA: 0s - loss: 0.1254 - accuracy: 0.9637\n",
      "Epoch 119: saving model to ../tf_models\\mod1\n",
      "INFO:tensorflow:Assets written to: ../tf_models\\mod1\\assets\n"
     ]
    },
    {
     "name": "stderr",
     "output_type": "stream",
     "text": [
      "INFO:tensorflow:Assets written to: ../tf_models\\mod1\\assets\n"
     ]
    },
    {
     "name": "stdout",
     "output_type": "stream",
     "text": [
      "115/115 [==============================] - 1s 6ms/step - loss: 0.1262 - accuracy: 0.9640 - val_loss: 0.0648 - val_accuracy: 0.9834\n",
      "Epoch 120/1000\n",
      "106/115 [==========================>...] - ETA: 0s - loss: 0.1186 - accuracy: 0.9668\n",
      "Epoch 120: saving model to ../tf_models\\mod1\n",
      "INFO:tensorflow:Assets written to: ../tf_models\\mod1\\assets\n"
     ]
    },
    {
     "name": "stderr",
     "output_type": "stream",
     "text": [
      "INFO:tensorflow:Assets written to: ../tf_models\\mod1\\assets\n"
     ]
    },
    {
     "name": "stdout",
     "output_type": "stream",
     "text": [
      "115/115 [==============================] - 1s 6ms/step - loss: 0.1199 - accuracy: 0.9666 - val_loss: 0.0666 - val_accuracy: 0.9821\n",
      "Epoch 121/1000\n",
      "106/115 [==========================>...] - ETA: 0s - loss: 0.1242 - accuracy: 0.9632\n",
      "Epoch 121: saving model to ../tf_models\\mod1\n",
      "INFO:tensorflow:Assets written to: ../tf_models\\mod1\\assets\n"
     ]
    },
    {
     "name": "stderr",
     "output_type": "stream",
     "text": [
      "INFO:tensorflow:Assets written to: ../tf_models\\mod1\\assets\n"
     ]
    },
    {
     "name": "stdout",
     "output_type": "stream",
     "text": [
      "115/115 [==============================] - 1s 6ms/step - loss: 0.1264 - accuracy: 0.9629 - val_loss: 0.0690 - val_accuracy: 0.9814\n",
      "Epoch 122/1000\n",
      "108/115 [===========================>..] - ETA: 0s - loss: 0.1187 - accuracy: 0.9643\n",
      "Epoch 122: saving model to ../tf_models\\mod1\n",
      "INFO:tensorflow:Assets written to: ../tf_models\\mod1\\assets\n"
     ]
    },
    {
     "name": "stderr",
     "output_type": "stream",
     "text": [
      "INFO:tensorflow:Assets written to: ../tf_models\\mod1\\assets\n"
     ]
    },
    {
     "name": "stdout",
     "output_type": "stream",
     "text": [
      "115/115 [==============================] - 1s 5ms/step - loss: 0.1186 - accuracy: 0.9644 - val_loss: 0.0870 - val_accuracy: 0.9739\n",
      "Epoch 123/1000\n",
      "109/115 [===========================>..] - ETA: 0s - loss: 0.1245 - accuracy: 0.9629\n",
      "Epoch 123: saving model to ../tf_models\\mod1\n",
      "INFO:tensorflow:Assets written to: ../tf_models\\mod1\\assets\n"
     ]
    },
    {
     "name": "stderr",
     "output_type": "stream",
     "text": [
      "INFO:tensorflow:Assets written to: ../tf_models\\mod1\\assets\n"
     ]
    },
    {
     "name": "stdout",
     "output_type": "stream",
     "text": [
      "115/115 [==============================] - 1s 5ms/step - loss: 0.1246 - accuracy: 0.9624 - val_loss: 0.0661 - val_accuracy: 0.9824\n",
      "Epoch 124/1000\n",
      "111/115 [===========================>..] - ETA: 0s - loss: 0.1220 - accuracy: 0.9637\n",
      "Epoch 124: saving model to ../tf_models\\mod1\n",
      "INFO:tensorflow:Assets written to: ../tf_models\\mod1\\assets\n"
     ]
    },
    {
     "name": "stderr",
     "output_type": "stream",
     "text": [
      "INFO:tensorflow:Assets written to: ../tf_models\\mod1\\assets\n"
     ]
    },
    {
     "name": "stdout",
     "output_type": "stream",
     "text": [
      "115/115 [==============================] - 1s 5ms/step - loss: 0.1217 - accuracy: 0.9636 - val_loss: 0.0725 - val_accuracy: 0.9817\n",
      "Epoch 125/1000\n",
      "110/115 [===========================>..] - ETA: 0s - loss: 0.1265 - accuracy: 0.9621\n",
      "Epoch 125: saving model to ../tf_models\\mod1\n",
      "INFO:tensorflow:Assets written to: ../tf_models\\mod1\\assets\n"
     ]
    },
    {
     "name": "stderr",
     "output_type": "stream",
     "text": [
      "INFO:tensorflow:Assets written to: ../tf_models\\mod1\\assets\n"
     ]
    },
    {
     "name": "stdout",
     "output_type": "stream",
     "text": [
      "115/115 [==============================] - 1s 7ms/step - loss: 0.1264 - accuracy: 0.9622 - val_loss: 0.0637 - val_accuracy: 0.9825\n",
      "Epoch 126/1000\n",
      "109/115 [===========================>..] - ETA: 0s - loss: 0.1211 - accuracy: 0.9653\n",
      "Epoch 126: saving model to ../tf_models\\mod1\n",
      "INFO:tensorflow:Assets written to: ../tf_models\\mod1\\assets\n"
     ]
    },
    {
     "name": "stderr",
     "output_type": "stream",
     "text": [
      "INFO:tensorflow:Assets written to: ../tf_models\\mod1\\assets\n"
     ]
    },
    {
     "name": "stdout",
     "output_type": "stream",
     "text": [
      "115/115 [==============================] - 1s 5ms/step - loss: 0.1199 - accuracy: 0.9656 - val_loss: 0.0645 - val_accuracy: 0.9826\n",
      "Epoch 127/1000\n",
      "110/115 [===========================>..] - ETA: 0s - loss: 0.1340 - accuracy: 0.9630\n",
      "Epoch 127: saving model to ../tf_models\\mod1\n",
      "INFO:tensorflow:Assets written to: ../tf_models\\mod1\\assets\n"
     ]
    },
    {
     "name": "stderr",
     "output_type": "stream",
     "text": [
      "INFO:tensorflow:Assets written to: ../tf_models\\mod1\\assets\n"
     ]
    },
    {
     "name": "stdout",
     "output_type": "stream",
     "text": [
      "115/115 [==============================] - 1s 5ms/step - loss: 0.1334 - accuracy: 0.9629 - val_loss: 0.0786 - val_accuracy: 0.9774\n",
      "Epoch 128/1000\n",
      "110/115 [===========================>..] - ETA: 0s - loss: 0.1201 - accuracy: 0.9653\n",
      "Epoch 128: saving model to ../tf_models\\mod1\n",
      "INFO:tensorflow:Assets written to: ../tf_models\\mod1\\assets\n"
     ]
    },
    {
     "name": "stderr",
     "output_type": "stream",
     "text": [
      "INFO:tensorflow:Assets written to: ../tf_models\\mod1\\assets\n"
     ]
    },
    {
     "name": "stdout",
     "output_type": "stream",
     "text": [
      "115/115 [==============================] - 1s 5ms/step - loss: 0.1199 - accuracy: 0.9652 - val_loss: 0.0683 - val_accuracy: 0.9832\n",
      "Epoch 129/1000\n",
      "110/115 [===========================>..] - ETA: 0s - loss: 0.1134 - accuracy: 0.9695\n",
      "Epoch 129: saving model to ../tf_models\\mod1\n",
      "INFO:tensorflow:Assets written to: ../tf_models\\mod1\\assets\n"
     ]
    },
    {
     "name": "stderr",
     "output_type": "stream",
     "text": [
      "INFO:tensorflow:Assets written to: ../tf_models\\mod1\\assets\n"
     ]
    },
    {
     "name": "stdout",
     "output_type": "stream",
     "text": [
      "115/115 [==============================] - 1s 5ms/step - loss: 0.1130 - accuracy: 0.9695 - val_loss: 0.0655 - val_accuracy: 0.9828\n",
      "Epoch 130/1000\n",
      "107/115 [==========================>...] - ETA: 0s - loss: 0.1164 - accuracy: 0.9668\n",
      "Epoch 130: saving model to ../tf_models\\mod1\n",
      "INFO:tensorflow:Assets written to: ../tf_models\\mod1\\assets\n"
     ]
    },
    {
     "name": "stderr",
     "output_type": "stream",
     "text": [
      "INFO:tensorflow:Assets written to: ../tf_models\\mod1\\assets\n"
     ]
    },
    {
     "name": "stdout",
     "output_type": "stream",
     "text": [
      "115/115 [==============================] - 1s 5ms/step - loss: 0.1169 - accuracy: 0.9669 - val_loss: 0.0659 - val_accuracy: 0.9827\n",
      "Epoch 131/1000\n",
      "111/115 [===========================>..] - ETA: 0s - loss: 0.1270 - accuracy: 0.9645\n",
      "Epoch 131: saving model to ../tf_models\\mod1\n",
      "INFO:tensorflow:Assets written to: ../tf_models\\mod1\\assets\n"
     ]
    },
    {
     "name": "stderr",
     "output_type": "stream",
     "text": [
      "INFO:tensorflow:Assets written to: ../tf_models\\mod1\\assets\n"
     ]
    },
    {
     "name": "stdout",
     "output_type": "stream",
     "text": [
      "115/115 [==============================] - 1s 5ms/step - loss: 0.1275 - accuracy: 0.9641 - val_loss: 0.0654 - val_accuracy: 0.9824\n",
      "Epoch 132/1000\n",
      "110/115 [===========================>..] - ETA: 0s - loss: 0.1255 - accuracy: 0.9636\n",
      "Epoch 132: saving model to ../tf_models\\mod1\n",
      "INFO:tensorflow:Assets written to: ../tf_models\\mod1\\assets\n"
     ]
    },
    {
     "name": "stderr",
     "output_type": "stream",
     "text": [
      "INFO:tensorflow:Assets written to: ../tf_models\\mod1\\assets\n"
     ]
    },
    {
     "name": "stdout",
     "output_type": "stream",
     "text": [
      "115/115 [==============================] - 1s 5ms/step - loss: 0.1246 - accuracy: 0.9640 - val_loss: 0.0822 - val_accuracy: 0.9766\n",
      "Epoch 133/1000\n",
      "110/115 [===========================>..] - ETA: 0s - loss: 0.1198 - accuracy: 0.9671\n",
      "Epoch 133: saving model to ../tf_models\\mod1\n",
      "INFO:tensorflow:Assets written to: ../tf_models\\mod1\\assets\n"
     ]
    },
    {
     "name": "stderr",
     "output_type": "stream",
     "text": [
      "INFO:tensorflow:Assets written to: ../tf_models\\mod1\\assets\n"
     ]
    },
    {
     "name": "stdout",
     "output_type": "stream",
     "text": [
      "115/115 [==============================] - 1s 5ms/step - loss: 0.1199 - accuracy: 0.9670 - val_loss: 0.0602 - val_accuracy: 0.9837\n",
      "Epoch 134/1000\n",
      "108/115 [===========================>..] - ETA: 0s - loss: 0.1185 - accuracy: 0.9643\n",
      "Epoch 134: saving model to ../tf_models\\mod1\n",
      "INFO:tensorflow:Assets written to: ../tf_models\\mod1\\assets\n"
     ]
    },
    {
     "name": "stderr",
     "output_type": "stream",
     "text": [
      "INFO:tensorflow:Assets written to: ../tf_models\\mod1\\assets\n"
     ]
    },
    {
     "name": "stdout",
     "output_type": "stream",
     "text": [
      "115/115 [==============================] - 1s 7ms/step - loss: 0.1194 - accuracy: 0.9644 - val_loss: 0.0640 - val_accuracy: 0.9836\n",
      "Epoch 135/1000\n",
      "100/115 [=========================>....] - ETA: 0s - loss: 0.1268 - accuracy: 0.9625\n",
      "Epoch 135: saving model to ../tf_models\\mod1\n",
      "INFO:tensorflow:Assets written to: ../tf_models\\mod1\\assets\n"
     ]
    },
    {
     "name": "stderr",
     "output_type": "stream",
     "text": [
      "INFO:tensorflow:Assets written to: ../tf_models\\mod1\\assets\n"
     ]
    },
    {
     "name": "stdout",
     "output_type": "stream",
     "text": [
      "115/115 [==============================] - 1s 6ms/step - loss: 0.1234 - accuracy: 0.9637 - val_loss: 0.0636 - val_accuracy: 0.9834\n",
      "Epoch 136/1000\n",
      "101/115 [=========================>....] - ETA: 0s - loss: 0.1174 - accuracy: 0.9668\n",
      "Epoch 136: saving model to ../tf_models\\mod1\n",
      "INFO:tensorflow:Assets written to: ../tf_models\\mod1\\assets\n"
     ]
    },
    {
     "name": "stderr",
     "output_type": "stream",
     "text": [
      "INFO:tensorflow:Assets written to: ../tf_models\\mod1\\assets\n"
     ]
    },
    {
     "name": "stdout",
     "output_type": "stream",
     "text": [
      "115/115 [==============================] - 1s 6ms/step - loss: 0.1176 - accuracy: 0.9666 - val_loss: 0.0653 - val_accuracy: 0.9829\n",
      "Epoch 137/1000\n",
      "107/115 [==========================>...] - ETA: 0s - loss: 0.1174 - accuracy: 0.9636\n",
      "Epoch 137: saving model to ../tf_models\\mod1\n",
      "INFO:tensorflow:Assets written to: ../tf_models\\mod1\\assets\n"
     ]
    },
    {
     "name": "stderr",
     "output_type": "stream",
     "text": [
      "INFO:tensorflow:Assets written to: ../tf_models\\mod1\\assets\n"
     ]
    },
    {
     "name": "stdout",
     "output_type": "stream",
     "text": [
      "115/115 [==============================] - 1s 5ms/step - loss: 0.1167 - accuracy: 0.9642 - val_loss: 0.0667 - val_accuracy: 0.9816\n",
      "Epoch 138/1000\n",
      "111/115 [===========================>..] - ETA: 0s - loss: 0.1218 - accuracy: 0.9657\n",
      "Epoch 138: saving model to ../tf_models\\mod1\n",
      "INFO:tensorflow:Assets written to: ../tf_models\\mod1\\assets\n"
     ]
    },
    {
     "name": "stderr",
     "output_type": "stream",
     "text": [
      "INFO:tensorflow:Assets written to: ../tf_models\\mod1\\assets\n"
     ]
    },
    {
     "name": "stdout",
     "output_type": "stream",
     "text": [
      "115/115 [==============================] - 1s 5ms/step - loss: 0.1210 - accuracy: 0.9659 - val_loss: 0.0620 - val_accuracy: 0.9830\n",
      "Epoch 139/1000\n",
      "109/115 [===========================>..] - ETA: 0s - loss: 0.1158 - accuracy: 0.9654\n",
      "Epoch 139: saving model to ../tf_models\\mod1\n",
      "INFO:tensorflow:Assets written to: ../tf_models\\mod1\\assets\n"
     ]
    },
    {
     "name": "stderr",
     "output_type": "stream",
     "text": [
      "INFO:tensorflow:Assets written to: ../tf_models\\mod1\\assets\n"
     ]
    },
    {
     "name": "stdout",
     "output_type": "stream",
     "text": [
      "115/115 [==============================] - 1s 5ms/step - loss: 0.1175 - accuracy: 0.9657 - val_loss: 0.0708 - val_accuracy: 0.9817\n",
      "Epoch 140/1000\n",
      "109/115 [===========================>..] - ETA: 0s - loss: 0.1144 - accuracy: 0.9667\n",
      "Epoch 140: saving model to ../tf_models\\mod1\n",
      "INFO:tensorflow:Assets written to: ../tf_models\\mod1\\assets\n"
     ]
    },
    {
     "name": "stderr",
     "output_type": "stream",
     "text": [
      "INFO:tensorflow:Assets written to: ../tf_models\\mod1\\assets\n"
     ]
    },
    {
     "name": "stdout",
     "output_type": "stream",
     "text": [
      "115/115 [==============================] - 1s 5ms/step - loss: 0.1149 - accuracy: 0.9669 - val_loss: 0.0739 - val_accuracy: 0.9817\n",
      "Epoch 141/1000\n",
      "109/115 [===========================>..] - ETA: 0s - loss: 0.1211 - accuracy: 0.9643\n",
      "Epoch 141: saving model to ../tf_models\\mod1\n",
      "INFO:tensorflow:Assets written to: ../tf_models\\mod1\\assets\n"
     ]
    },
    {
     "name": "stderr",
     "output_type": "stream",
     "text": [
      "INFO:tensorflow:Assets written to: ../tf_models\\mod1\\assets\n"
     ]
    },
    {
     "name": "stdout",
     "output_type": "stream",
     "text": [
      "115/115 [==============================] - 1s 7ms/step - loss: 0.1214 - accuracy: 0.9640 - val_loss: 0.0632 - val_accuracy: 0.9832\n",
      "Epoch 142/1000\n",
      "109/115 [===========================>..] - ETA: 0s - loss: 0.1156 - accuracy: 0.9682\n",
      "Epoch 142: saving model to ../tf_models\\mod1\n",
      "INFO:tensorflow:Assets written to: ../tf_models\\mod1\\assets\n"
     ]
    },
    {
     "name": "stderr",
     "output_type": "stream",
     "text": [
      "INFO:tensorflow:Assets written to: ../tf_models\\mod1\\assets\n"
     ]
    },
    {
     "name": "stdout",
     "output_type": "stream",
     "text": [
      "115/115 [==============================] - 1s 5ms/step - loss: 0.1165 - accuracy: 0.9676 - val_loss: 0.0625 - val_accuracy: 0.9839\n",
      "Epoch 143/1000\n",
      "110/115 [===========================>..] - ETA: 0s - loss: 0.1095 - accuracy: 0.9694\n",
      "Epoch 143: saving model to ../tf_models\\mod1\n",
      "INFO:tensorflow:Assets written to: ../tf_models\\mod1\\assets\n"
     ]
    },
    {
     "name": "stderr",
     "output_type": "stream",
     "text": [
      "INFO:tensorflow:Assets written to: ../tf_models\\mod1\\assets\n"
     ]
    },
    {
     "name": "stdout",
     "output_type": "stream",
     "text": [
      "115/115 [==============================] - 1s 5ms/step - loss: 0.1111 - accuracy: 0.9688 - val_loss: 0.0696 - val_accuracy: 0.9817\n",
      "Epoch 144/1000\n",
      "110/115 [===========================>..] - ETA: 0s - loss: 0.1117 - accuracy: 0.9661\n",
      "Epoch 144: saving model to ../tf_models\\mod1\n",
      "INFO:tensorflow:Assets written to: ../tf_models\\mod1\\assets\n"
     ]
    },
    {
     "name": "stderr",
     "output_type": "stream",
     "text": [
      "INFO:tensorflow:Assets written to: ../tf_models\\mod1\\assets\n"
     ]
    },
    {
     "name": "stdout",
     "output_type": "stream",
     "text": [
      "115/115 [==============================] - 1s 5ms/step - loss: 0.1122 - accuracy: 0.9662 - val_loss: 0.0736 - val_accuracy: 0.9816\n",
      "Epoch 145/1000\n",
      "110/115 [===========================>..] - ETA: 0s - loss: 0.1152 - accuracy: 0.9668\n",
      "Epoch 145: saving model to ../tf_models\\mod1\n",
      "INFO:tensorflow:Assets written to: ../tf_models\\mod1\\assets\n"
     ]
    },
    {
     "name": "stderr",
     "output_type": "stream",
     "text": [
      "INFO:tensorflow:Assets written to: ../tf_models\\mod1\\assets\n"
     ]
    },
    {
     "name": "stdout",
     "output_type": "stream",
     "text": [
      "115/115 [==============================] - 1s 5ms/step - loss: 0.1151 - accuracy: 0.9669 - val_loss: 0.0603 - val_accuracy: 0.9841\n",
      "Epoch 146/1000\n",
      "110/115 [===========================>..] - ETA: 0s - loss: 0.1156 - accuracy: 0.9659\n",
      "Epoch 146: saving model to ../tf_models\\mod1\n",
      "INFO:tensorflow:Assets written to: ../tf_models\\mod1\\assets\n"
     ]
    },
    {
     "name": "stderr",
     "output_type": "stream",
     "text": [
      "INFO:tensorflow:Assets written to: ../tf_models\\mod1\\assets\n"
     ]
    },
    {
     "name": "stdout",
     "output_type": "stream",
     "text": [
      "115/115 [==============================] - 1s 5ms/step - loss: 0.1143 - accuracy: 0.9664 - val_loss: 0.0585 - val_accuracy: 0.9850\n",
      "Epoch 147/1000\n",
      "107/115 [==========================>...] - ETA: 0s - loss: 0.1103 - accuracy: 0.9666\n",
      "Epoch 147: saving model to ../tf_models\\mod1\n",
      "INFO:tensorflow:Assets written to: ../tf_models\\mod1\\assets\n"
     ]
    },
    {
     "name": "stderr",
     "output_type": "stream",
     "text": [
      "INFO:tensorflow:Assets written to: ../tf_models\\mod1\\assets\n"
     ]
    },
    {
     "name": "stdout",
     "output_type": "stream",
     "text": [
      "115/115 [==============================] - 1s 5ms/step - loss: 0.1084 - accuracy: 0.9672 - val_loss: 0.0611 - val_accuracy: 0.9841\n",
      "Epoch 148/1000\n",
      "111/115 [===========================>..] - ETA: 0s - loss: 0.1120 - accuracy: 0.9680\n",
      "Epoch 148: saving model to ../tf_models\\mod1\n",
      "INFO:tensorflow:Assets written to: ../tf_models\\mod1\\assets\n"
     ]
    },
    {
     "name": "stderr",
     "output_type": "stream",
     "text": [
      "INFO:tensorflow:Assets written to: ../tf_models\\mod1\\assets\n"
     ]
    },
    {
     "name": "stdout",
     "output_type": "stream",
     "text": [
      "115/115 [==============================] - 1s 5ms/step - loss: 0.1129 - accuracy: 0.9672 - val_loss: 0.0669 - val_accuracy: 0.9817\n",
      "Epoch 149/1000\n",
      "107/115 [==========================>...] - ETA: 0s - loss: 0.1122 - accuracy: 0.9652\n",
      "Epoch 149: saving model to ../tf_models\\mod1\n",
      "INFO:tensorflow:Assets written to: ../tf_models\\mod1\\assets\n"
     ]
    },
    {
     "name": "stderr",
     "output_type": "stream",
     "text": [
      "INFO:tensorflow:Assets written to: ../tf_models\\mod1\\assets\n"
     ]
    },
    {
     "name": "stdout",
     "output_type": "stream",
     "text": [
      "115/115 [==============================] - 1s 7ms/step - loss: 0.1132 - accuracy: 0.9648 - val_loss: 0.0721 - val_accuracy: 0.9806\n",
      "Epoch 150/1000\n",
      "107/115 [==========================>...] - ETA: 0s - loss: 0.1173 - accuracy: 0.9679\n",
      "Epoch 150: saving model to ../tf_models\\mod1\n",
      "INFO:tensorflow:Assets written to: ../tf_models\\mod1\\assets\n"
     ]
    },
    {
     "name": "stderr",
     "output_type": "stream",
     "text": [
      "INFO:tensorflow:Assets written to: ../tf_models\\mod1\\assets\n"
     ]
    },
    {
     "name": "stdout",
     "output_type": "stream",
     "text": [
      "115/115 [==============================] - 1s 5ms/step - loss: 0.1171 - accuracy: 0.9676 - val_loss: 0.0706 - val_accuracy: 0.9804\n",
      "Epoch 151/1000\n",
      "108/115 [===========================>..] - ETA: 0s - loss: 0.1095 - accuracy: 0.9693\n",
      "Epoch 151: saving model to ../tf_models\\mod1\n",
      "INFO:tensorflow:Assets written to: ../tf_models\\mod1\\assets\n"
     ]
    },
    {
     "name": "stderr",
     "output_type": "stream",
     "text": [
      "INFO:tensorflow:Assets written to: ../tf_models\\mod1\\assets\n"
     ]
    },
    {
     "name": "stdout",
     "output_type": "stream",
     "text": [
      "115/115 [==============================] - 1s 5ms/step - loss: 0.1092 - accuracy: 0.9691 - val_loss: 0.0639 - val_accuracy: 0.9829\n",
      "Epoch 152/1000\n",
      "108/115 [===========================>..] - ETA: 0s - loss: 0.1135 - accuracy: 0.9679\n",
      "Epoch 152: saving model to ../tf_models\\mod1\n",
      "INFO:tensorflow:Assets written to: ../tf_models\\mod1\\assets\n"
     ]
    },
    {
     "name": "stderr",
     "output_type": "stream",
     "text": [
      "INFO:tensorflow:Assets written to: ../tf_models\\mod1\\assets\n"
     ]
    },
    {
     "name": "stdout",
     "output_type": "stream",
     "text": [
      "115/115 [==============================] - 1s 5ms/step - loss: 0.1131 - accuracy: 0.9678 - val_loss: 0.0687 - val_accuracy: 0.9815\n",
      "Epoch 153/1000\n",
      "110/115 [===========================>..] - ETA: 0s - loss: 0.1189 - accuracy: 0.9658\n",
      "Epoch 153: saving model to ../tf_models\\mod1\n",
      "INFO:tensorflow:Assets written to: ../tf_models\\mod1\\assets\n"
     ]
    },
    {
     "name": "stderr",
     "output_type": "stream",
     "text": [
      "INFO:tensorflow:Assets written to: ../tf_models\\mod1\\assets\n"
     ]
    },
    {
     "name": "stdout",
     "output_type": "stream",
     "text": [
      "115/115 [==============================] - 1s 5ms/step - loss: 0.1185 - accuracy: 0.9660 - val_loss: 0.0569 - val_accuracy: 0.9848\n",
      "Epoch 154/1000\n",
      "109/115 [===========================>..] - ETA: 0s - loss: 0.1176 - accuracy: 0.9660\n",
      "Epoch 154: saving model to ../tf_models\\mod1\n",
      "INFO:tensorflow:Assets written to: ../tf_models\\mod1\\assets\n"
     ]
    },
    {
     "name": "stderr",
     "output_type": "stream",
     "text": [
      "INFO:tensorflow:Assets written to: ../tf_models\\mod1\\assets\n"
     ]
    },
    {
     "name": "stdout",
     "output_type": "stream",
     "text": [
      "115/115 [==============================] - 1s 5ms/step - loss: 0.1178 - accuracy: 0.9660 - val_loss: 0.0676 - val_accuracy: 0.9830\n",
      "Epoch 155/1000\n",
      "111/115 [===========================>..] - ETA: 0s - loss: 0.1115 - accuracy: 0.9671\n",
      "Epoch 155: saving model to ../tf_models\\mod1\n",
      "INFO:tensorflow:Assets written to: ../tf_models\\mod1\\assets\n"
     ]
    },
    {
     "name": "stderr",
     "output_type": "stream",
     "text": [
      "INFO:tensorflow:Assets written to: ../tf_models\\mod1\\assets\n"
     ]
    },
    {
     "name": "stdout",
     "output_type": "stream",
     "text": [
      "115/115 [==============================] - 1s 5ms/step - loss: 0.1122 - accuracy: 0.9671 - val_loss: 0.0765 - val_accuracy: 0.9779\n",
      "Epoch 156/1000\n",
      "110/115 [===========================>..] - ETA: 0s - loss: 0.1205 - accuracy: 0.9656\n",
      "Epoch 156: saving model to ../tf_models\\mod1\n",
      "INFO:tensorflow:Assets written to: ../tf_models\\mod1\\assets\n"
     ]
    },
    {
     "name": "stderr",
     "output_type": "stream",
     "text": [
      "INFO:tensorflow:Assets written to: ../tf_models\\mod1\\assets\n"
     ]
    },
    {
     "name": "stdout",
     "output_type": "stream",
     "text": [
      "115/115 [==============================] - 1s 5ms/step - loss: 0.1216 - accuracy: 0.9650 - val_loss: 0.0613 - val_accuracy: 0.9841\n",
      "Epoch 157/1000\n",
      "108/115 [===========================>..] - ETA: 0s - loss: 0.1083 - accuracy: 0.9686\n",
      "Epoch 157: saving model to ../tf_models\\mod1\n",
      "INFO:tensorflow:Assets written to: ../tf_models\\mod1\\assets\n"
     ]
    },
    {
     "name": "stderr",
     "output_type": "stream",
     "text": [
      "INFO:tensorflow:Assets written to: ../tf_models\\mod1\\assets\n"
     ]
    },
    {
     "name": "stdout",
     "output_type": "stream",
     "text": [
      "115/115 [==============================] - 1s 5ms/step - loss: 0.1082 - accuracy: 0.9682 - val_loss: 0.0595 - val_accuracy: 0.9845\n",
      "Epoch 158/1000\n",
      "109/115 [===========================>..] - ETA: 0s - loss: 0.1099 - accuracy: 0.9682\n",
      "Epoch 158: saving model to ../tf_models\\mod1\n",
      "INFO:tensorflow:Assets written to: ../tf_models\\mod1\\assets\n"
     ]
    },
    {
     "name": "stderr",
     "output_type": "stream",
     "text": [
      "INFO:tensorflow:Assets written to: ../tf_models\\mod1\\assets\n"
     ]
    },
    {
     "name": "stdout",
     "output_type": "stream",
     "text": [
      "115/115 [==============================] - 1s 7ms/step - loss: 0.1104 - accuracy: 0.9681 - val_loss: 0.0650 - val_accuracy: 0.9824\n",
      "Epoch 159/1000\n",
      "110/115 [===========================>..] - ETA: 0s - loss: 0.1198 - accuracy: 0.9644\n",
      "Epoch 159: saving model to ../tf_models\\mod1\n",
      "INFO:tensorflow:Assets written to: ../tf_models\\mod1\\assets\n"
     ]
    },
    {
     "name": "stderr",
     "output_type": "stream",
     "text": [
      "INFO:tensorflow:Assets written to: ../tf_models\\mod1\\assets\n"
     ]
    },
    {
     "name": "stdout",
     "output_type": "stream",
     "text": [
      "115/115 [==============================] - 1s 5ms/step - loss: 0.1191 - accuracy: 0.9646 - val_loss: 0.0629 - val_accuracy: 0.9827\n",
      "Epoch 160/1000\n",
      "110/115 [===========================>..] - ETA: 0s - loss: 0.1128 - accuracy: 0.9677\n",
      "Epoch 160: saving model to ../tf_models\\mod1\n",
      "INFO:tensorflow:Assets written to: ../tf_models\\mod1\\assets\n"
     ]
    },
    {
     "name": "stderr",
     "output_type": "stream",
     "text": [
      "INFO:tensorflow:Assets written to: ../tf_models\\mod1\\assets\n"
     ]
    },
    {
     "name": "stdout",
     "output_type": "stream",
     "text": [
      "115/115 [==============================] - 1s 5ms/step - loss: 0.1130 - accuracy: 0.9676 - val_loss: 0.0640 - val_accuracy: 0.9830\n",
      "Epoch 161/1000\n",
      "110/115 [===========================>..] - ETA: 0s - loss: 0.1062 - accuracy: 0.9680\n",
      "Epoch 161: saving model to ../tf_models\\mod1\n",
      "INFO:tensorflow:Assets written to: ../tf_models\\mod1\\assets\n"
     ]
    },
    {
     "name": "stderr",
     "output_type": "stream",
     "text": [
      "INFO:tensorflow:Assets written to: ../tf_models\\mod1\\assets\n"
     ]
    },
    {
     "name": "stdout",
     "output_type": "stream",
     "text": [
      "115/115 [==============================] - 1s 5ms/step - loss: 0.1055 - accuracy: 0.9683 - val_loss: 0.0602 - val_accuracy: 0.9847\n",
      "Epoch 162/1000\n",
      "106/115 [==========================>...] - ETA: 0s - loss: 0.1077 - accuracy: 0.9691\n",
      "Epoch 162: saving model to ../tf_models\\mod1\n",
      "INFO:tensorflow:Assets written to: ../tf_models\\mod1\\assets\n"
     ]
    },
    {
     "name": "stderr",
     "output_type": "stream",
     "text": [
      "INFO:tensorflow:Assets written to: ../tf_models\\mod1\\assets\n"
     ]
    },
    {
     "name": "stdout",
     "output_type": "stream",
     "text": [
      "115/115 [==============================] - 1s 5ms/step - loss: 0.1083 - accuracy: 0.9691 - val_loss: 0.0628 - val_accuracy: 0.9845\n",
      "Epoch 163/1000\n",
      "108/115 [===========================>..] - ETA: 0s - loss: 0.1134 - accuracy: 0.9659\n",
      "Epoch 163: saving model to ../tf_models\\mod1\n",
      "INFO:tensorflow:Assets written to: ../tf_models\\mod1\\assets\n"
     ]
    },
    {
     "name": "stderr",
     "output_type": "stream",
     "text": [
      "INFO:tensorflow:Assets written to: ../tf_models\\mod1\\assets\n"
     ]
    },
    {
     "name": "stdout",
     "output_type": "stream",
     "text": [
      "115/115 [==============================] - 1s 5ms/step - loss: 0.1143 - accuracy: 0.9656 - val_loss: 0.0646 - val_accuracy: 0.9822\n",
      "Epoch 164/1000\n",
      "108/115 [===========================>..] - ETA: 0s - loss: 0.1036 - accuracy: 0.9710\n",
      "Epoch 164: saving model to ../tf_models\\mod1\n",
      "INFO:tensorflow:Assets written to: ../tf_models\\mod1\\assets\n"
     ]
    },
    {
     "name": "stderr",
     "output_type": "stream",
     "text": [
      "INFO:tensorflow:Assets written to: ../tf_models\\mod1\\assets\n"
     ]
    },
    {
     "name": "stdout",
     "output_type": "stream",
     "text": [
      "115/115 [==============================] - 1s 5ms/step - loss: 0.1033 - accuracy: 0.9710 - val_loss: 0.0664 - val_accuracy: 0.9834\n",
      "Epoch 165/1000\n",
      "109/115 [===========================>..] - ETA: 0s - loss: 0.1058 - accuracy: 0.9690\n",
      "Epoch 165: saving model to ../tf_models\\mod1\n",
      "INFO:tensorflow:Assets written to: ../tf_models\\mod1\\assets\n"
     ]
    },
    {
     "name": "stderr",
     "output_type": "stream",
     "text": [
      "INFO:tensorflow:Assets written to: ../tf_models\\mod1\\assets\n"
     ]
    },
    {
     "name": "stdout",
     "output_type": "stream",
     "text": [
      "115/115 [==============================] - 1s 5ms/step - loss: 0.1048 - accuracy: 0.9693 - val_loss: 0.0623 - val_accuracy: 0.9837\n",
      "Epoch 166/1000\n",
      "111/115 [===========================>..] - ETA: 0s - loss: 0.1120 - accuracy: 0.9666\n",
      "Epoch 166: saving model to ../tf_models\\mod1\n",
      "INFO:tensorflow:Assets written to: ../tf_models\\mod1\\assets\n"
     ]
    },
    {
     "name": "stderr",
     "output_type": "stream",
     "text": [
      "INFO:tensorflow:Assets written to: ../tf_models\\mod1\\assets\n"
     ]
    },
    {
     "name": "stdout",
     "output_type": "stream",
     "text": [
      "115/115 [==============================] - 1s 7ms/step - loss: 0.1114 - accuracy: 0.9668 - val_loss: 0.0663 - val_accuracy: 0.9832\n",
      "Epoch 167/1000\n",
      "107/115 [==========================>...] - ETA: 0s - loss: 0.1197 - accuracy: 0.9659\n",
      "Epoch 167: saving model to ../tf_models\\mod1\n",
      "INFO:tensorflow:Assets written to: ../tf_models\\mod1\\assets\n"
     ]
    },
    {
     "name": "stderr",
     "output_type": "stream",
     "text": [
      "INFO:tensorflow:Assets written to: ../tf_models\\mod1\\assets\n"
     ]
    },
    {
     "name": "stdout",
     "output_type": "stream",
     "text": [
      "115/115 [==============================] - 1s 5ms/step - loss: 0.1201 - accuracy: 0.9656 - val_loss: 0.0672 - val_accuracy: 0.9828\n",
      "Epoch 168/1000\n",
      "106/115 [==========================>...] - ETA: 0s - loss: 0.1146 - accuracy: 0.9665\n",
      "Epoch 168: saving model to ../tf_models\\mod1\n",
      "INFO:tensorflow:Assets written to: ../tf_models\\mod1\\assets\n"
     ]
    },
    {
     "name": "stderr",
     "output_type": "stream",
     "text": [
      "INFO:tensorflow:Assets written to: ../tf_models\\mod1\\assets\n"
     ]
    },
    {
     "name": "stdout",
     "output_type": "stream",
     "text": [
      "115/115 [==============================] - 1s 6ms/step - loss: 0.1139 - accuracy: 0.9667 - val_loss: 0.0682 - val_accuracy: 0.9815\n",
      "Epoch 169/1000\n",
      "106/115 [==========================>...] - ETA: 0s - loss: 0.1046 - accuracy: 0.9688\n",
      "Epoch 169: saving model to ../tf_models\\mod1\n",
      "INFO:tensorflow:Assets written to: ../tf_models\\mod1\\assets\n"
     ]
    },
    {
     "name": "stderr",
     "output_type": "stream",
     "text": [
      "INFO:tensorflow:Assets written to: ../tf_models\\mod1\\assets\n"
     ]
    },
    {
     "name": "stdout",
     "output_type": "stream",
     "text": [
      "115/115 [==============================] - 1s 6ms/step - loss: 0.1062 - accuracy: 0.9685 - val_loss: 0.0565 - val_accuracy: 0.9851\n",
      "Epoch 170/1000\n",
      "106/115 [==========================>...] - ETA: 0s - loss: 0.1053 - accuracy: 0.9683\n",
      "Epoch 170: saving model to ../tf_models\\mod1\n",
      "INFO:tensorflow:Assets written to: ../tf_models\\mod1\\assets\n"
     ]
    },
    {
     "name": "stderr",
     "output_type": "stream",
     "text": [
      "INFO:tensorflow:Assets written to: ../tf_models\\mod1\\assets\n"
     ]
    },
    {
     "name": "stdout",
     "output_type": "stream",
     "text": [
      "115/115 [==============================] - 1s 5ms/step - loss: 0.1084 - accuracy: 0.9673 - val_loss: 0.0629 - val_accuracy: 0.9828\n",
      "Epoch 171/1000\n",
      "104/115 [==========================>...] - ETA: 0s - loss: 0.1060 - accuracy: 0.9683\n",
      "Epoch 171: saving model to ../tf_models\\mod1\n",
      "INFO:tensorflow:Assets written to: ../tf_models\\mod1\\assets\n"
     ]
    },
    {
     "name": "stderr",
     "output_type": "stream",
     "text": [
      "INFO:tensorflow:Assets written to: ../tf_models\\mod1\\assets\n"
     ]
    },
    {
     "name": "stdout",
     "output_type": "stream",
     "text": [
      "115/115 [==============================] - 1s 6ms/step - loss: 0.1062 - accuracy: 0.9684 - val_loss: 0.0706 - val_accuracy: 0.9817\n",
      "Epoch 172/1000\n",
      "109/115 [===========================>..] - ETA: 0s - loss: 0.1131 - accuracy: 0.9671\n",
      "Epoch 172: saving model to ../tf_models\\mod1\n",
      "INFO:tensorflow:Assets written to: ../tf_models\\mod1\\assets\n"
     ]
    },
    {
     "name": "stderr",
     "output_type": "stream",
     "text": [
      "INFO:tensorflow:Assets written to: ../tf_models\\mod1\\assets\n"
     ]
    },
    {
     "name": "stdout",
     "output_type": "stream",
     "text": [
      "115/115 [==============================] - 1s 5ms/step - loss: 0.1156 - accuracy: 0.9666 - val_loss: 0.0688 - val_accuracy: 0.9813\n",
      "Epoch 173/1000\n",
      "108/115 [===========================>..] - ETA: 0s - loss: 0.1154 - accuracy: 0.9656\n",
      "Epoch 173: saving model to ../tf_models\\mod1\n",
      "INFO:tensorflow:Assets written to: ../tf_models\\mod1\\assets\n"
     ]
    },
    {
     "name": "stderr",
     "output_type": "stream",
     "text": [
      "INFO:tensorflow:Assets written to: ../tf_models\\mod1\\assets\n"
     ]
    },
    {
     "name": "stdout",
     "output_type": "stream",
     "text": [
      "115/115 [==============================] - 1s 5ms/step - loss: 0.1174 - accuracy: 0.9652 - val_loss: 0.0751 - val_accuracy: 0.9789\n",
      "Epoch 174/1000\n",
      "108/115 [===========================>..] - ETA: 0s - loss: 0.1084 - accuracy: 0.9676\n",
      "Epoch 174: saving model to ../tf_models\\mod1\n",
      "INFO:tensorflow:Assets written to: ../tf_models\\mod1\\assets\n"
     ]
    },
    {
     "name": "stderr",
     "output_type": "stream",
     "text": [
      "INFO:tensorflow:Assets written to: ../tf_models\\mod1\\assets\n"
     ]
    },
    {
     "name": "stdout",
     "output_type": "stream",
     "text": [
      "115/115 [==============================] - 1s 5ms/step - loss: 0.1067 - accuracy: 0.9681 - val_loss: 0.0624 - val_accuracy: 0.9830\n",
      "Epoch 175/1000\n",
      "106/115 [==========================>...] - ETA: 0s - loss: 0.1070 - accuracy: 0.9682\n",
      "Epoch 175: saving model to ../tf_models\\mod1\n",
      "INFO:tensorflow:Assets written to: ../tf_models\\mod1\\assets\n"
     ]
    },
    {
     "name": "stderr",
     "output_type": "stream",
     "text": [
      "INFO:tensorflow:Assets written to: ../tf_models\\mod1\\assets\n"
     ]
    },
    {
     "name": "stdout",
     "output_type": "stream",
     "text": [
      "115/115 [==============================] - 1s 7ms/step - loss: 0.1079 - accuracy: 0.9685 - val_loss: 0.0621 - val_accuracy: 0.9830\n",
      "Epoch 176/1000\n",
      "108/115 [===========================>..] - ETA: 0s - loss: 0.1024 - accuracy: 0.9704\n",
      "Epoch 176: saving model to ../tf_models\\mod1\n",
      "INFO:tensorflow:Assets written to: ../tf_models\\mod1\\assets\n"
     ]
    },
    {
     "name": "stderr",
     "output_type": "stream",
     "text": [
      "INFO:tensorflow:Assets written to: ../tf_models\\mod1\\assets\n"
     ]
    },
    {
     "name": "stdout",
     "output_type": "stream",
     "text": [
      "115/115 [==============================] - 1s 5ms/step - loss: 0.1035 - accuracy: 0.9698 - val_loss: 0.0613 - val_accuracy: 0.9840\n",
      "Epoch 177/1000\n",
      "110/115 [===========================>..] - ETA: 0s - loss: 0.1180 - accuracy: 0.9649\n",
      "Epoch 177: saving model to ../tf_models\\mod1\n",
      "INFO:tensorflow:Assets written to: ../tf_models\\mod1\\assets\n"
     ]
    },
    {
     "name": "stderr",
     "output_type": "stream",
     "text": [
      "INFO:tensorflow:Assets written to: ../tf_models\\mod1\\assets\n"
     ]
    },
    {
     "name": "stdout",
     "output_type": "stream",
     "text": [
      "115/115 [==============================] - 1s 5ms/step - loss: 0.1175 - accuracy: 0.9650 - val_loss: 0.0722 - val_accuracy: 0.9799\n",
      "Epoch 178/1000\n",
      "104/115 [==========================>...] - ETA: 0s - loss: 0.1184 - accuracy: 0.9648\n",
      "Epoch 178: saving model to ../tf_models\\mod1\n",
      "INFO:tensorflow:Assets written to: ../tf_models\\mod1\\assets\n"
     ]
    },
    {
     "name": "stderr",
     "output_type": "stream",
     "text": [
      "INFO:tensorflow:Assets written to: ../tf_models\\mod1\\assets\n"
     ]
    },
    {
     "name": "stdout",
     "output_type": "stream",
     "text": [
      "115/115 [==============================] - 1s 6ms/step - loss: 0.1179 - accuracy: 0.9650 - val_loss: 0.0685 - val_accuracy: 0.9802\n",
      "Epoch 179/1000\n",
      "108/115 [===========================>..] - ETA: 0s - loss: 0.1055 - accuracy: 0.9683\n",
      "Epoch 179: saving model to ../tf_models\\mod1\n",
      "INFO:tensorflow:Assets written to: ../tf_models\\mod1\\assets\n"
     ]
    },
    {
     "name": "stderr",
     "output_type": "stream",
     "text": [
      "INFO:tensorflow:Assets written to: ../tf_models\\mod1\\assets\n"
     ]
    },
    {
     "name": "stdout",
     "output_type": "stream",
     "text": [
      "115/115 [==============================] - 1s 5ms/step - loss: 0.1043 - accuracy: 0.9688 - val_loss: 0.0674 - val_accuracy: 0.9832\n",
      "Epoch 180/1000\n",
      "110/115 [===========================>..] - ETA: 0s - loss: 0.1026 - accuracy: 0.9701\n",
      "Epoch 180: saving model to ../tf_models\\mod1\n",
      "INFO:tensorflow:Assets written to: ../tf_models\\mod1\\assets\n"
     ]
    },
    {
     "name": "stderr",
     "output_type": "stream",
     "text": [
      "INFO:tensorflow:Assets written to: ../tf_models\\mod1\\assets\n"
     ]
    },
    {
     "name": "stdout",
     "output_type": "stream",
     "text": [
      "115/115 [==============================] - 1s 5ms/step - loss: 0.1038 - accuracy: 0.9700 - val_loss: 0.0557 - val_accuracy: 0.9852\n",
      "Epoch 181/1000\n",
      "109/115 [===========================>..] - ETA: 0s - loss: 0.1013 - accuracy: 0.9705\n",
      "Epoch 181: saving model to ../tf_models\\mod1\n",
      "INFO:tensorflow:Assets written to: ../tf_models\\mod1\\assets\n"
     ]
    },
    {
     "name": "stderr",
     "output_type": "stream",
     "text": [
      "INFO:tensorflow:Assets written to: ../tf_models\\mod1\\assets\n"
     ]
    },
    {
     "name": "stdout",
     "output_type": "stream",
     "text": [
      "115/115 [==============================] - 1s 6ms/step - loss: 0.1011 - accuracy: 0.9703 - val_loss: 0.0592 - val_accuracy: 0.9852\n",
      "Epoch 182/1000\n",
      "107/115 [==========================>...] - ETA: 0s - loss: 0.1078 - accuracy: 0.9674\n",
      "Epoch 182: saving model to ../tf_models\\mod1\n",
      "INFO:tensorflow:Assets written to: ../tf_models\\mod1\\assets\n"
     ]
    },
    {
     "name": "stderr",
     "output_type": "stream",
     "text": [
      "INFO:tensorflow:Assets written to: ../tf_models\\mod1\\assets\n"
     ]
    },
    {
     "name": "stdout",
     "output_type": "stream",
     "text": [
      "115/115 [==============================] - 1s 7ms/step - loss: 0.1082 - accuracy: 0.9675 - val_loss: 0.0613 - val_accuracy: 0.9837\n",
      "Epoch 183/1000\n",
      " 99/115 [========================>.....] - ETA: 0s - loss: 0.1106 - accuracy: 0.9681\n",
      "Epoch 183: saving model to ../tf_models\\mod1\n",
      "INFO:tensorflow:Assets written to: ../tf_models\\mod1\\assets\n"
     ]
    },
    {
     "name": "stderr",
     "output_type": "stream",
     "text": [
      "INFO:tensorflow:Assets written to: ../tf_models\\mod1\\assets\n"
     ]
    },
    {
     "name": "stdout",
     "output_type": "stream",
     "text": [
      "115/115 [==============================] - 1s 6ms/step - loss: 0.1131 - accuracy: 0.9680 - val_loss: 0.0601 - val_accuracy: 0.9838\n",
      "Epoch 184/1000\n",
      "106/115 [==========================>...] - ETA: 0s - loss: 0.1008 - accuracy: 0.9711\n",
      "Epoch 184: saving model to ../tf_models\\mod1\n",
      "INFO:tensorflow:Assets written to: ../tf_models\\mod1\\assets\n"
     ]
    },
    {
     "name": "stderr",
     "output_type": "stream",
     "text": [
      "INFO:tensorflow:Assets written to: ../tf_models\\mod1\\assets\n"
     ]
    },
    {
     "name": "stdout",
     "output_type": "stream",
     "text": [
      "115/115 [==============================] - 1s 6ms/step - loss: 0.1012 - accuracy: 0.9709 - val_loss: 0.0614 - val_accuracy: 0.9845\n",
      "Epoch 185/1000\n",
      "100/115 [=========================>....] - ETA: 0s - loss: 0.1116 - accuracy: 0.9665\n",
      "Epoch 185: saving model to ../tf_models\\mod1\n",
      "INFO:tensorflow:Assets written to: ../tf_models\\mod1\\assets\n"
     ]
    },
    {
     "name": "stderr",
     "output_type": "stream",
     "text": [
      "INFO:tensorflow:Assets written to: ../tf_models\\mod1\\assets\n"
     ]
    },
    {
     "name": "stdout",
     "output_type": "stream",
     "text": [
      "115/115 [==============================] - 1s 6ms/step - loss: 0.1105 - accuracy: 0.9663 - val_loss: 0.0579 - val_accuracy: 0.9847\n",
      "Epoch 186/1000\n",
      "108/115 [===========================>..] - ETA: 0s - loss: 0.1047 - accuracy: 0.9700\n",
      "Epoch 186: saving model to ../tf_models\\mod1\n",
      "INFO:tensorflow:Assets written to: ../tf_models\\mod1\\assets\n"
     ]
    },
    {
     "name": "stderr",
     "output_type": "stream",
     "text": [
      "INFO:tensorflow:Assets written to: ../tf_models\\mod1\\assets\n"
     ]
    },
    {
     "name": "stdout",
     "output_type": "stream",
     "text": [
      "115/115 [==============================] - 1s 5ms/step - loss: 0.1057 - accuracy: 0.9700 - val_loss: 0.0561 - val_accuracy: 0.9848\n",
      "Epoch 187/1000\n",
      "110/115 [===========================>..] - ETA: 0s - loss: 0.1076 - accuracy: 0.9680\n",
      "Epoch 187: saving model to ../tf_models\\mod1\n",
      "INFO:tensorflow:Assets written to: ../tf_models\\mod1\\assets\n"
     ]
    },
    {
     "name": "stderr",
     "output_type": "stream",
     "text": [
      "INFO:tensorflow:Assets written to: ../tf_models\\mod1\\assets\n"
     ]
    },
    {
     "name": "stdout",
     "output_type": "stream",
     "text": [
      "115/115 [==============================] - 1s 5ms/step - loss: 0.1070 - accuracy: 0.9683 - val_loss: 0.0710 - val_accuracy: 0.9829\n",
      "Epoch 188/1000\n",
      "107/115 [==========================>...] - ETA: 0s - loss: 0.1093 - accuracy: 0.9690\n",
      "Epoch 188: saving model to ../tf_models\\mod1\n",
      "INFO:tensorflow:Assets written to: ../tf_models\\mod1\\assets\n"
     ]
    },
    {
     "name": "stderr",
     "output_type": "stream",
     "text": [
      "INFO:tensorflow:Assets written to: ../tf_models\\mod1\\assets\n"
     ]
    },
    {
     "name": "stdout",
     "output_type": "stream",
     "text": [
      "115/115 [==============================] - 1s 5ms/step - loss: 0.1075 - accuracy: 0.9692 - val_loss: 0.0610 - val_accuracy: 0.9832\n",
      "Epoch 189/1000\n",
      "111/115 [===========================>..] - ETA: 0s - loss: 0.1009 - accuracy: 0.9705\n",
      "Epoch 189: saving model to ../tf_models\\mod1\n",
      "INFO:tensorflow:Assets written to: ../tf_models\\mod1\\assets\n"
     ]
    },
    {
     "name": "stderr",
     "output_type": "stream",
     "text": [
      "INFO:tensorflow:Assets written to: ../tf_models\\mod1\\assets\n"
     ]
    },
    {
     "name": "stdout",
     "output_type": "stream",
     "text": [
      "115/115 [==============================] - 1s 5ms/step - loss: 0.1005 - accuracy: 0.9705 - val_loss: 0.0575 - val_accuracy: 0.9843\n",
      "Epoch 190/1000\n",
      "110/115 [===========================>..] - ETA: 0s - loss: 0.1015 - accuracy: 0.9718\n",
      "Epoch 190: saving model to ../tf_models\\mod1\n",
      "INFO:tensorflow:Assets written to: ../tf_models\\mod1\\assets\n"
     ]
    },
    {
     "name": "stderr",
     "output_type": "stream",
     "text": [
      "INFO:tensorflow:Assets written to: ../tf_models\\mod1\\assets\n"
     ]
    },
    {
     "name": "stdout",
     "output_type": "stream",
     "text": [
      "115/115 [==============================] - 1s 7ms/step - loss: 0.1021 - accuracy: 0.9718 - val_loss: 0.0593 - val_accuracy: 0.9847\n",
      "Epoch 191/1000\n",
      "109/115 [===========================>..] - ETA: 0s - loss: 0.1023 - accuracy: 0.9697\n",
      "Epoch 191: saving model to ../tf_models\\mod1\n",
      "INFO:tensorflow:Assets written to: ../tf_models\\mod1\\assets\n"
     ]
    },
    {
     "name": "stderr",
     "output_type": "stream",
     "text": [
      "INFO:tensorflow:Assets written to: ../tf_models\\mod1\\assets\n"
     ]
    },
    {
     "name": "stdout",
     "output_type": "stream",
     "text": [
      "115/115 [==============================] - 1s 5ms/step - loss: 0.1030 - accuracy: 0.9697 - val_loss: 0.0572 - val_accuracy: 0.9852\n",
      "Epoch 192/1000\n",
      "109/115 [===========================>..] - ETA: 0s - loss: 0.1001 - accuracy: 0.9713\n",
      "Epoch 192: saving model to ../tf_models\\mod1\n",
      "INFO:tensorflow:Assets written to: ../tf_models\\mod1\\assets\n"
     ]
    },
    {
     "name": "stderr",
     "output_type": "stream",
     "text": [
      "INFO:tensorflow:Assets written to: ../tf_models\\mod1\\assets\n"
     ]
    },
    {
     "name": "stdout",
     "output_type": "stream",
     "text": [
      "115/115 [==============================] - 1s 5ms/step - loss: 0.1030 - accuracy: 0.9703 - val_loss: 0.0653 - val_accuracy: 0.9843\n",
      "Epoch 193/1000\n",
      "110/115 [===========================>..] - ETA: 0s - loss: 0.1121 - accuracy: 0.9677\n",
      "Epoch 193: saving model to ../tf_models\\mod1\n",
      "INFO:tensorflow:Assets written to: ../tf_models\\mod1\\assets\n"
     ]
    },
    {
     "name": "stderr",
     "output_type": "stream",
     "text": [
      "INFO:tensorflow:Assets written to: ../tf_models\\mod1\\assets\n"
     ]
    },
    {
     "name": "stdout",
     "output_type": "stream",
     "text": [
      "115/115 [==============================] - 1s 5ms/step - loss: 0.1104 - accuracy: 0.9681 - val_loss: 0.0632 - val_accuracy: 0.9826\n",
      "Epoch 194/1000\n",
      "106/115 [==========================>...] - ETA: 0s - loss: 0.1124 - accuracy: 0.9669\n",
      "Epoch 194: saving model to ../tf_models\\mod1\n",
      "INFO:tensorflow:Assets written to: ../tf_models\\mod1\\assets\n"
     ]
    },
    {
     "name": "stderr",
     "output_type": "stream",
     "text": [
      "INFO:tensorflow:Assets written to: ../tf_models\\mod1\\assets\n"
     ]
    },
    {
     "name": "stdout",
     "output_type": "stream",
     "text": [
      "115/115 [==============================] - 1s 5ms/step - loss: 0.1113 - accuracy: 0.9671 - val_loss: 0.0608 - val_accuracy: 0.9842\n",
      "Epoch 195/1000\n",
      "109/115 [===========================>..] - ETA: 0s - loss: 0.1077 - accuracy: 0.9676\n",
      "Epoch 195: saving model to ../tf_models\\mod1\n",
      "INFO:tensorflow:Assets written to: ../tf_models\\mod1\\assets\n"
     ]
    },
    {
     "name": "stderr",
     "output_type": "stream",
     "text": [
      "INFO:tensorflow:Assets written to: ../tf_models\\mod1\\assets\n"
     ]
    },
    {
     "name": "stdout",
     "output_type": "stream",
     "text": [
      "115/115 [==============================] - 1s 5ms/step - loss: 0.1058 - accuracy: 0.9681 - val_loss: 0.0585 - val_accuracy: 0.9842\n",
      "Epoch 196/1000\n",
      "108/115 [===========================>..] - ETA: 0s - loss: 0.1033 - accuracy: 0.9695\n",
      "Epoch 196: saving model to ../tf_models\\mod1\n",
      "INFO:tensorflow:Assets written to: ../tf_models\\mod1\\assets\n"
     ]
    },
    {
     "name": "stderr",
     "output_type": "stream",
     "text": [
      "INFO:tensorflow:Assets written to: ../tf_models\\mod1\\assets\n"
     ]
    },
    {
     "name": "stdout",
     "output_type": "stream",
     "text": [
      "115/115 [==============================] - 1s 5ms/step - loss: 0.1038 - accuracy: 0.9693 - val_loss: 0.0584 - val_accuracy: 0.9836\n",
      "Epoch 197/1000\n",
      "108/115 [===========================>..] - ETA: 0s - loss: 0.1054 - accuracy: 0.9697\n",
      "Epoch 197: saving model to ../tf_models\\mod1\n",
      "INFO:tensorflow:Assets written to: ../tf_models\\mod1\\assets\n"
     ]
    },
    {
     "name": "stderr",
     "output_type": "stream",
     "text": [
      "INFO:tensorflow:Assets written to: ../tf_models\\mod1\\assets\n"
     ]
    },
    {
     "name": "stdout",
     "output_type": "stream",
     "text": [
      "115/115 [==============================] - 1s 5ms/step - loss: 0.1064 - accuracy: 0.9691 - val_loss: 0.0631 - val_accuracy: 0.9834\n",
      "Epoch 198/1000\n",
      "110/115 [===========================>..] - ETA: 0s - loss: 0.1015 - accuracy: 0.9700\n",
      "Epoch 198: saving model to ../tf_models\\mod1\n",
      "INFO:tensorflow:Assets written to: ../tf_models\\mod1\\assets\n"
     ]
    },
    {
     "name": "stderr",
     "output_type": "stream",
     "text": [
      "INFO:tensorflow:Assets written to: ../tf_models\\mod1\\assets\n"
     ]
    },
    {
     "name": "stdout",
     "output_type": "stream",
     "text": [
      "115/115 [==============================] - 1s 5ms/step - loss: 0.1007 - accuracy: 0.9704 - val_loss: 0.0569 - val_accuracy: 0.9854\n",
      "Epoch 199/1000\n",
      "102/115 [=========================>....] - ETA: 0s - loss: 0.1016 - accuracy: 0.9708\n",
      "Epoch 199: saving model to ../tf_models\\mod1\n",
      "INFO:tensorflow:Assets written to: ../tf_models\\mod1\\assets\n"
     ]
    },
    {
     "name": "stderr",
     "output_type": "stream",
     "text": [
      "INFO:tensorflow:Assets written to: ../tf_models\\mod1\\assets\n"
     ]
    },
    {
     "name": "stdout",
     "output_type": "stream",
     "text": [
      "115/115 [==============================] - 1s 7ms/step - loss: 0.1045 - accuracy: 0.9702 - val_loss: 0.0667 - val_accuracy: 0.9831\n",
      "Epoch 200/1000\n",
      "105/115 [==========================>...] - ETA: 0s - loss: 0.1048 - accuracy: 0.9706\n",
      "Epoch 200: saving model to ../tf_models\\mod1\n",
      "INFO:tensorflow:Assets written to: ../tf_models\\mod1\\assets\n"
     ]
    },
    {
     "name": "stderr",
     "output_type": "stream",
     "text": [
      "INFO:tensorflow:Assets written to: ../tf_models\\mod1\\assets\n"
     ]
    },
    {
     "name": "stdout",
     "output_type": "stream",
     "text": [
      "115/115 [==============================] - 1s 6ms/step - loss: 0.1046 - accuracy: 0.9708 - val_loss: 0.0590 - val_accuracy: 0.9836\n",
      "Epoch 200: early stopping\n"
     ]
    }
   ],
   "source": [
    "\n",
    "history = tf_model.fit(\n",
    "    X_train,\n",
    "    y_train,\n",
    "    epochs=1000,\n",
    "    batch_size=128,\n",
    "    validation_data=(X_val, y_val),\n",
    "    callbacks=[cp_callback, es_callback]\n",
    ")\n"
   ]
  },
  {
   "cell_type": "code",
   "execution_count": null,
   "id": "72c1d88f856eb5f0",
   "metadata": {
    "collapsed": false
   },
   "outputs": [],
   "source": [
    "\n",
    "plt.plot(history.history['accuracy'])\n",
    "plt.plot(history.history['val_accuracy'])\n",
    "plt.title('model accuracy')\n",
    "plt.ylabel('accuracy')\n",
    "plt.xlabel('epoch')\n",
    "plt.legend(['train', 'val'], loc='upper left')\n",
    "plt.show()\n"
   ]
  },
  {
   "cell_type": "code",
   "execution_count": null,
   "id": "23e1d9928eecc288",
   "metadata": {
    "collapsed": false
   },
   "outputs": [],
   "source": [
    "plt.plot(history.history['loss'])\n",
    "plt.plot(history.history['val_loss'])\n",
    "plt.title('model loss')\n",
    "plt.ylabel('loss')\n",
    "plt.xlabel('epoch')\n",
    "plt.legend(['train', 'val'], loc='upper left')\n",
    "plt.show()"
   ]
  },
  {
   "cell_type": "code",
   "execution_count": 79,
   "id": "a54f35e63b13b8b7",
   "metadata": {
    "ExecuteTime": {
     "end_time": "2023-11-09T19:15:04.639373400Z",
     "start_time": "2023-11-09T19:15:04.423229600Z"
    },
    "collapsed": false
   },
   "outputs": [
    {
     "name": "stdout",
     "output_type": "stream",
     "text": [
      "229/229 [==============================] - 0s 649us/step - loss: 0.0561 - accuracy: 0.9834\n"
     ]
    }
   ],
   "source": [
    "\n",
    "# Model evaluation\n",
    "val_loss, val_acc = tf_model.evaluate(X_test, y_test, batch_size=128)\n"
   ]
  },
  {
   "cell_type": "code",
   "outputs": [],
   "source": [
    "model_save_path = os.path.join(\"../tf_models/mod1\")"
   ],
   "metadata": {
    "collapsed": false
   },
   "id": "8f21fc4308b21a55"
  },
  {
   "cell_type": "code",
   "execution_count": 80,
   "id": "81efcac969d0d971",
   "metadata": {
    "ExecuteTime": {
     "end_time": "2023-11-09T19:15:25.825558900Z",
     "start_time": "2023-11-09T19:15:25.596801Z"
    },
    "collapsed": false
   },
   "outputs": [],
   "source": [
    "\n",
    "\n",
    "# Loading the saved model\n",
    "model = tf.keras.models.load_model(model_save_path)\n",
    "\n"
   ]
  },
  {
   "cell_type": "markdown",
   "id": "a4a63974160911a",
   "metadata": {
    "collapsed": false
   },
   "source": [
    "# Confusion matrix"
   ]
  },
  {
   "cell_type": "code",
   "execution_count": 81,
   "id": "61372fe3cc81abe8",
   "metadata": {
    "ExecuteTime": {
     "end_time": "2023-11-09T19:15:28.618777900Z",
     "start_time": "2023-11-09T19:15:27.616562700Z"
    },
    "collapsed": false
   },
   "outputs": [
    {
     "name": "stdout",
     "output_type": "stream",
     "text": [
      "914/914 [==============================] - 1s 527us/step\n"
     ]
    },
    {
     "data": {
      "image/png": "[encoded data removed]",
      "text/plain": [
       "<Figure size 700x500 with 2 Axes>"
      ]
     },
     "metadata": {},
     "output_type": "display_data"
    },
    {
     "name": "stdout",
     "output_type": "stream",
     "text": [
      "Classification Report\n",
      "              precision    recall  f1-score   support\n",
      "\n",
      "         0.0       0.94      0.99      0.96      3615\n",
      "         1.0       0.98      0.99      0.99      5673\n",
      "         2.0       0.99      0.99      0.99      3863\n",
      "         3.0       1.00      1.00      1.00      4215\n",
      "         4.0       0.97      1.00      0.99      3782\n",
      "         5.0       1.00      0.95      0.97      4049\n",
      "         6.0       1.00      0.97      0.98      4042\n",
      "\n",
      "    accuracy                           0.98     29239\n",
      "   macro avg       0.98      0.98      0.98     29239\n",
      "weighted avg       0.98      0.98      0.98     29239\n"
     ]
    }
   ],
   "source": [
    "\n",
    "\n",
    "import pandas as pd\n",
    "import seaborn as sns\n",
    "import matplotlib.pyplot as plt\n",
    "from sklearn.metrics import confusion_matrix, classification_report\n",
    "\n",
    "from GestureNumber import GestureNumber\n",
    "\n",
    "\n",
    "def print_confusion_matrix(y_true, y_pred, report=True):\n",
    "    labels = sorted(list(set(y_true)))\n",
    "    labels_names = [GestureNumber(label).name for label in labels]\n",
    "    labels_names = [\" \".join(label.split(\"_\")) for label in labels_names]\n",
    "    cmx_data = confusion_matrix(y_true, y_pred, labels=labels)\n",
    "\n",
    "    df_cmx = pd.DataFrame(cmx_data, index=labels, columns=labels)\n",
    "\n",
    "    plt.figure(figsize=(7, 5))\n",
    "\n",
    "    sns.heatmap(df_cmx, annot=True, fmt='g', square=False)\n",
    "    # ax.set_yticklabels(labels_names)\n",
    "    # ax.set_yticklabelsrotation()\n",
    "    # ax.tick_params(labelrotation=1.5)\n",
    "    plt.yticks([idx + 0.5 for idx in range(len(labels))], labels=labels_names, rotation=1.5)\n",
    "    plt.xticks([idx + 0.5 for idx in range(len(labels))], labels=labels_names, rotation=300)\n",
    "    plt.ylim(len(set(y_true)), 0)\n",
    "    plt.show()\n",
    "\n",
    "    if report:\n",
    "        print('Classification Report')\n",
    "        print(classification_report(y_test, y_pred))\n",
    "\n",
    "\n",
    "Y_pred = model.predict(X_test)\n",
    "y_pred = np.argmax(Y_pred, axis=1)\n",
    "\n",
    "print_confusion_matrix(y_test, y_pred)\n",
    "\n"
   ]
  },
  {
   "cell_type": "code",
   "execution_count": 82,
   "id": "39da9d00f8047ce",
   "metadata": {
    "ExecuteTime": {
     "end_time": "2023-11-09T19:15:45.740170200Z",
     "start_time": "2023-11-09T19:15:45.701459300Z"
    },
    "collapsed": false
   },
   "outputs": [],
   "source": [
    "\n",
    "tflite_save_path = os.path.join(\"../trained_models/tf_models\")\n",
    "tflite_save_path = os.path.join(tflite_save_path, \"model1.tflite\")\n",
    "\n"
   ]
  },
  {
   "cell_type": "code",
   "execution_count": 83,
   "id": "97939db1ecf7be02",
   "metadata": {
    "ExecuteTime": {
     "end_time": "2023-11-09T19:15:52.594524900Z",
     "start_time": "2023-11-09T19:15:51.562961200Z"
    },
    "collapsed": false
   },
   "outputs": [
    {
     "name": "stdout",
     "output_type": "stream",
     "text": [
      "INFO:tensorflow:Assets written to: C:\\Users\\barte\\AppData\\Local\\Temp\\tmpxi66cb3p\\assets\n"
     ]
    },
    {
     "name": "stderr",
     "output_type": "stream",
     "text": [
      "INFO:tensorflow:Assets written to: C:\\Users\\barte\\AppData\\Local\\Temp\\tmpxi66cb3p\\assets\n"
     ]
    },
    {
     "data": {
      "text/plain": [
       "7680"
      ]
     },
     "execution_count": 83,
     "metadata": {},
     "output_type": "execute_result"
    }
   ],
   "source": [
    "\n",
    "# Transform model (quantization)\n",
    "converter = tf.lite.TFLiteConverter.from_keras_model(tf_model)\n",
    "converter.optimizations = [tf.lite.Optimize.DEFAULT]\n",
    "tflite_quantized_model = converter.convert()\n",
    "\n",
    "open(tflite_save_path, 'wb').write(tflite_quantized_model)\n"
   ]
  },
  {
   "cell_type": "code",
   "execution_count": null,
   "id": "ccd2797093477024",
   "metadata": {
    "collapsed": false
   },
   "outputs": [],
   "source": [
    "\n",
    "\n"
   ]
  }
 ],
 "metadata": {
  "kernelspec": {
   "display_name": "Python 3",
   "language": "python",
   "name": "python3"
  },
  "language_info": {
   "codemirror_mode": {
    "name": "ipython",
    "version": 3
   },
   "file_extension": ".py",
   "mimetype": "text/x-python",
   "name": "python",
   "nbconvert_exporter": "python",
   "pygments_lexer": "ipython3",
   "version": "3.9.15"
  }
 },
 "nbformat": 4,
 "nbformat_minor": 5
}
